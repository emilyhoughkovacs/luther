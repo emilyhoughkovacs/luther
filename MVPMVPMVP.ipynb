{
 "cells": [
  {
   "cell_type": "code",
   "execution_count": 199,
   "metadata": {
    "collapsed": false
   },
   "outputs": [],
   "source": [
    "# import pandas as pd\n",
    "# import numpy as np\n",
    "# import matplotlib.pyplot as plt\n",
    "# from datetime import datetime\n",
    "# %matplotlib inline\n",
    "# import seaborn as sns"
   ]
  },
  {
   "cell_type": "code",
   "execution_count": 200,
   "metadata": {
    "collapsed": false
   },
   "outputs": [],
   "source": [
    "df = pd.read_csv('moviedf.csv')"
   ]
  },
  {
   "cell_type": "code",
   "execution_count": 201,
   "metadata": {
    "collapsed": false
   },
   "outputs": [],
   "source": [
    "df = df.drop('foreign', axis=1)\n",
    "df = df.drop('hungary', axis=1)\n",
    "df = df.drop('foreign_dist', axis=1)"
   ]
  },
  {
   "cell_type": "code",
   "execution_count": 202,
   "metadata": {
    "collapsed": false
   },
   "outputs": [],
   "source": [
    "converted = df.copy()"
   ]
  },
  {
   "cell_type": "code",
   "execution_count": 203,
   "metadata": {
    "collapsed": false
   },
   "outputs": [],
   "source": [
    "converted['dtg'] = df['dtg'].apply(lambda x: str(x))\n",
    "converted['dtg'] = converted['dtg'].apply(lambda x: x.replace('$', '').replace(',',''))\n",
    "converted['dtg'] = converted['dtg'].apply(lambda x: np.nan if x=='nan' else int(x))\n",
    "converted['foreign_opening'] = converted['foreign_opening'].apply(lambda x: str(x).replace('$', '').replace(',',''))\n",
    "converted['foreign_opening'] = converted['foreign_opening'].apply(lambda x: np.nan if x=='n/a' else int(x))\n",
    "converted['title'] = converted['title'].apply(lambda x: str(x))\n",
    "converted['dist'] = converted['dist'].apply(lambda x: str(x))\n",
    "converted['genre'] = converted['genre'].apply(lambda x: str(x))\n",
    "converted['rating'] = converted['rating'].apply(lambda x: str(x))\n",
    "converted['hun_dist'] = converted['hun_dist'].apply(lambda x: str(x))\n",
    "converted['foreign_total'] = converted['foreign_total'].apply(lambda x: str(x).replace('$', '').replace(',',''))\n",
    "converted['foreign_total'] = converted['foreign_total'].apply(lambda x: np.nan if x=='n/a' else int(x))\n",
    "converted['hun_opening'] = converted['hun_opening'].apply(lambda x: str(x).replace('$', '').replace(',',''))\n",
    "converted['hun_opening'] = converted['hun_opening'].apply(lambda x: np.nan if x=='n/a' or x=='-' else int(x))\n",
    "converted['hun_total'] = converted['hun_total'].apply(lambda x: str(x).replace('$', '').replace(',',''))\n",
    "converted['hun_total'] = converted['hun_total'].apply(lambda x: np.nan if x=='n/a' else int(x))\n",
    "converted['release'] = pd.to_datetime(converted['release'], errors='coerce', infer_datetime_format=True)\n",
    "converted['foreign_release'] = pd.to_datetime(converted['foreign_release'], errors='coerce', infer_datetime_format=True)\n",
    "converted['hun_release'] = pd.to_datetime(converted['hun_release'], errors='coerce', infer_datetime_format=True)\n",
    "converted['foreign_asof'] = pd.to_datetime(converted['foreign_asof'], errors='coerce', infer_datetime_format=True)\n",
    "converted['hun_asof'] = pd.to_datetime(converted['hun_asof'], errors='coerce', infer_datetime_format=True)\n",
    "converted['foreign_pct'] = converted['foreign_pct'].apply(lambda x: str(x).replace('%', ''))\n",
    "converted['foreign_pct'] = converted['foreign_pct'].apply(lambda x: np.nan if x=='-' else float(x)/100)\n",
    "converted['hun_pct'] = converted['hun_pct'].apply(lambda x: str(x).replace('%', ''))\n",
    "converted['hun_pct'] = converted['hun_pct'].apply(lambda x: np.nan if x=='-' else float(x)/100)\n",
    "converted['budget'] = converted['budget'].apply(lambda x: str(x).replace('$', '').replace(',','').replace('.','').replace(' million','000000'))\n",
    "converted['budget'] = converted['budget'].apply(lambda x: np.nan if x=='nan' else float(x)/1000000.)\n",
    "converted['runtime'] = converted['runtime'].apply(lambda x: x.replace('.', '').replace('hrs','hours').replace('min', 'minutes'))\n",
    "converted['runtime'] = converted['runtime'].apply(lambda x: pd.Timedelta(x))\n",
    "converted['runtime'] = converted['runtime'].apply(lambda x: x.astype(int)/6e+10)"
   ]
  },
  {
   "cell_type": "code",
   "execution_count": 204,
   "metadata": {
    "collapsed": false,
    "scrolled": true
   },
   "outputs": [],
   "source": [
    "# converted.head()"
   ]
  },
  {
   "cell_type": "code",
   "execution_count": 205,
   "metadata": {
    "collapsed": false
   },
   "outputs": [],
   "source": [
    "# Ignore for now\n",
    "# numerical = pd.concat([\n",
    "#         converted['dtg'],\n",
    "#         converted['release'],\n",
    "#         converted['foreign_release'],\n",
    "#         converted['foreign_opening'],\n",
    "#         converted['foreign_pct'],\n",
    "#         converted['foreign_total'],\n",
    "#         converted['hun_release'],\n",
    "#         converted['hun_opening'],\n",
    "#         converted['hun_pct'],\n",
    "#         converted['hun_total']\n",
    "#     ],\n",
    "#                       axis=1)\n",
    "# correlation = numerical.corr()\n",
    "# correlation"
   ]
  },
  {
   "cell_type": "markdown",
   "metadata": {},
   "source": [
    "Q: How many hungarian and american distributors are there? Should I create dummy variables or bucket them?"
   ]
  },
  {
   "cell_type": "code",
   "execution_count": 206,
   "metadata": {
    "collapsed": false
   },
   "outputs": [],
   "source": [
    "# len(converted['hun_dist'].unique())"
   ]
  },
  {
   "cell_type": "code",
   "execution_count": 207,
   "metadata": {
    "collapsed": false
   },
   "outputs": [],
   "source": [
    "# len(converted['dist'].unique())"
   ]
  },
  {
   "cell_type": "markdown",
   "metadata": {},
   "source": [
    "Q: Is the distributor ever the same in hungary and in the US?"
   ]
  },
  {
   "cell_type": "code",
   "execution_count": 208,
   "metadata": {
    "collapsed": false
   },
   "outputs": [],
   "source": [
    "# converted['hun_dist'].unique()"
   ]
  },
  {
   "cell_type": "code",
   "execution_count": 209,
   "metadata": {
    "collapsed": false
   },
   "outputs": [],
   "source": [
    "hun_dist_combined = {\n",
    "    'InterCom': 'InterCom',\n",
    "    'Forum': 'Forum',\n",
    "    'Forum Films': 'Forum',\n",
    "    \"SPI Int'l\": 'SPI',\n",
    "    'UIP': 'United',\n",
    "    'UIP - Duna':'United',\n",
    "    'UPI': 'Universal',\n",
    "    'Provideo': 'Provideo',\n",
    "    'A Company': 'A Company',\n",
    "    'A': 'A Company',\n",
    "    'Palace':'Palace',\n",
    "    '-':'-',\n",
    "    'WB':'WB',\n",
    "    'Fox':'Fox',\n",
    "    'Budapest':'Budapest',\n",
    "    'Big Bang':'Big Bang',\n",
    "    'PPI':'Paramount',\n",
    "    'Sony': 'Sony / Columbia',\n",
    "    'Intersonic':'Intersonic',\n",
    "    'Freeman':'Freeman'\n",
    "}"
   ]
  },
  {
   "cell_type": "code",
   "execution_count": 210,
   "metadata": {
    "collapsed": false
   },
   "outputs": [],
   "source": [
    "converted['hun_dist_combined'] = converted['hun_dist'].apply(lambda x: hun_dist_combined[x])\n",
    "converted['hun_dist'] = converted['hun_dist_combined']\n",
    "converted = converted.drop('hun_dist_combined', axis=1)\n",
    "converted['same_dist'] = converted['dist']==converted['hun_dist']\n",
    "converted['same_dist'] = converted['same_dist'].apply(lambda x: 1 if x else 0)"
   ]
  },
  {
   "cell_type": "code",
   "execution_count": 211,
   "metadata": {
    "collapsed": false
   },
   "outputs": [],
   "source": [
    "big_genre = {\n",
    "    'Sci-Fi Fantasy': 'Sci-Fi',\n",
    "    'Sci-Fi Horror': 'Sci-Fi',\n",
    "    'Sci-Fi': 'Sci-Fi',\n",
    "    'Sci-Fi Action': 'Sci-Fi',\n",
    "    'Sci-Fi Adventure': 'Sci-Fi',\n",
    "    'Sci-Fi Thriller': 'Sci-Fi',\n",
    "    'Sci-Fi Comedy': 'Sci-Fi',\n",
    "\n",
    "    'Action / Adventure': 'Action',\n",
    "    'Action': 'Action',\n",
    "    'Action Drama': 'Action',\n",
    "    'Period Action': 'Action',\n",
    "    'Action Horror': 'Action',\n",
    "    'Action / Crime': 'Action',\n",
    "    'Action Fantasy': 'Action',\n",
    "\n",
    "    'Fantasy' : 'Fantasy',\n",
    "\n",
    "    'Adventure' :'Adventure', \n",
    "    'Western' : 'Adventure',  \n",
    "\n",
    "    'Comedy': 'Comedy',\n",
    "    'Family Comedy': 'Comedy',\n",
    "    'Horror Comedy': 'Comedy',\n",
    "    'Comedy / Drama': 'Comedy',\n",
    "    'Action Comedy': 'Comedy',\n",
    "    'Romantic Comedy': 'Comedy',\n",
    "    'Western Comedy': 'Comedy',\n",
    "    'Fantasy Comedy': 'Comedy',\n",
    "    'Adventure Comedy': 'Comedy',\n",
    "\n",
    "    'Romance': 'Romance',\n",
    "\n",
    "    'Drama': 'Drama',\n",
    "    'Crime Drama': 'Drama',\n",
    "    'War Drama': 'Drama',\n",
    "    'War': 'Drama',\n",
    "    'Historical Drama': 'Drama',\n",
    "    'Period Drama': 'Drama',\n",
    "    'Period Adventure': 'Drama',\n",
    "    'Sports Drama': 'Drama',\n",
    "    'Fantasy Drama': 'Drama',\n",
    "\n",
    "    'Family': 'Family',\n",
    "    'Family Adventure': 'Family',\n",
    "    'Animation': 'Family',\n",
    "\n",
    "    'Thriller': 'Thriller/Horror',\n",
    "    'Horror': 'Thriller/Horror',\n",
    "    'Horror Thriller': 'Thriller/Horror',\n",
    "    'Romantic Thriller': 'Thriller/Horror',\n",
    "    'Drama / Thriller': 'Thriller/Horror',\n",
    "    'Action Thriller': 'Thriller/Horror',\n",
    "\n",
    "\n",
    "    'Musical': 'Music',\n",
    "    'Music Drama': 'Music',\n",
    "    'Concert': 'Music',\n",
    "\n",
    "    'Documentary': 'Documentary'\n",
    "}"
   ]
  },
  {
   "cell_type": "code",
   "execution_count": 212,
   "metadata": {
    "collapsed": false
   },
   "outputs": [],
   "source": [
    "converted['big_genre'] = converted['genre'].apply(lambda x: big_genre[x])\n",
    "converted['genre'] = converted['big_genre']\n",
    "converted = converted.drop('big_genre', axis=1)\n",
    "converted['hun_releasedelta'] = converted['hun_release']-converted['foreign_release']\n",
    "converted['foreign_releasedelta'] = converted['foreign_release']-converted['release']\n",
    "converted['hun_releasedelta_days'] = converted['hun_releasedelta'].astype(int)/8.64e+13\n",
    "converted['foreign_releasedelta_days'] = converted['foreign_releasedelta'].astype(int)/8.64e+13\n",
    "converted['hun_releasedelta'] = converted['hun_releasedelta_days']\n",
    "converted['foreign_releasedelta'] = converted['foreign_releasedelta_days']\n",
    "converted = converted.drop('hun_releasedelta_days', axis=1)\n",
    "converted = converted.drop('foreign_releasedelta_days', axis=1)\n",
    "converted['y_values'] = (converted['hun_total']/converted['foreign_total']).apply(lambda x: x*100)\n",
    "# converted.info()"
   ]
  },
  {
   "cell_type": "code",
   "execution_count": 213,
   "metadata": {
    "collapsed": false
   },
   "outputs": [],
   "source": [
    "converted = converted.drop('title', axis=1)\n",
    "converted = converted.drop('dtg', axis=1)\n",
    "converted = converted.drop('dist', axis=1)\n",
    "converted = converted.drop('release', axis=1)\n",
    "converted = converted.drop('foreign_release', axis=1)\n",
    "converted = converted.drop('foreign_opening', axis=1)\n",
    "converted = converted.drop('foreign_pct', axis=1)\n",
    "converted = converted.drop('foreign_total', axis=1)\n",
    "converted = converted.drop('foreign_asof', axis=1)\n",
    "converted = converted.drop('hun_release', axis=1)\n",
    "converted = converted.drop('hun_opening', axis=1)\n",
    "converted = converted.drop('hun_pct', axis=1)\n",
    "converted = converted.drop('hun_total', axis=1)\n",
    "converted = converted.drop('hun_asof', axis=1)"
   ]
  },
  {
   "cell_type": "code",
   "execution_count": 214,
   "metadata": {
    "collapsed": false
   },
   "outputs": [],
   "source": [
    "converted = converted.drop('rating', axis=1)\n",
    "converted = converted.drop('genre', axis=1)"
   ]
  },
  {
   "cell_type": "code",
   "execution_count": 215,
   "metadata": {
    "collapsed": false
   },
   "outputs": [
    {
     "data": {
      "text/html": [
       "<div>\n",
       "<table border=\"1\" class=\"dataframe\">\n",
       "  <thead>\n",
       "    <tr style=\"text-align: right;\">\n",
       "      <th></th>\n",
       "      <th>runtime</th>\n",
       "      <th>budget</th>\n",
       "      <th>hun_dist</th>\n",
       "      <th>same_dist</th>\n",
       "      <th>hun_releasedelta</th>\n",
       "      <th>foreign_releasedelta</th>\n",
       "      <th>y_values</th>\n",
       "    </tr>\n",
       "  </thead>\n",
       "  <tbody>\n",
       "    <tr>\n",
       "      <th>0</th>\n",
       "      <td>136</td>\n",
       "      <td>200</td>\n",
       "      <td>Forum</td>\n",
       "      <td>0</td>\n",
       "      <td>2</td>\n",
       "      <td>-2</td>\n",
       "      <td>0.582791</td>\n",
       "    </tr>\n",
       "    <tr>\n",
       "      <th>1</th>\n",
       "      <td>124</td>\n",
       "      <td>150</td>\n",
       "      <td>United</td>\n",
       "      <td>0</td>\n",
       "      <td>0</td>\n",
       "      <td>-1</td>\n",
       "      <td>0.201818</td>\n",
       "    </tr>\n",
       "    <tr>\n",
       "      <th>2</th>\n",
       "      <td>141</td>\n",
       "      <td>250</td>\n",
       "      <td>Forum</td>\n",
       "      <td>0</td>\n",
       "      <td>15</td>\n",
       "      <td>-9</td>\n",
       "      <td>0.209352</td>\n",
       "    </tr>\n",
       "    <tr>\n",
       "      <th>3</th>\n",
       "      <td>94</td>\n",
       "      <td>175</td>\n",
       "      <td>Forum</td>\n",
       "      <td>0</td>\n",
       "      <td>8</td>\n",
       "      <td>-2</td>\n",
       "      <td>0.243842</td>\n",
       "    </tr>\n",
       "    <tr>\n",
       "      <th>4</th>\n",
       "      <td>137</td>\n",
       "      <td>190</td>\n",
       "      <td>United</td>\n",
       "      <td>0</td>\n",
       "      <td>1</td>\n",
       "      <td>-2</td>\n",
       "      <td>0.168500</td>\n",
       "    </tr>\n",
       "  </tbody>\n",
       "</table>\n",
       "</div>"
      ],
      "text/plain": [
       "   runtime  budget hun_dist  same_dist  hun_releasedelta  \\\n",
       "0      136     200    Forum          0                 2   \n",
       "1      124     150   United          0                 0   \n",
       "2      141     250    Forum          0                15   \n",
       "3       94     175    Forum          0                 8   \n",
       "4      137     190   United          0                 1   \n",
       "\n",
       "   foreign_releasedelta  y_values  \n",
       "0                    -2  0.582791  \n",
       "1                    -1  0.201818  \n",
       "2                    -9  0.209352  \n",
       "3                    -2  0.243842  \n",
       "4                    -2  0.168500  "
      ]
     },
     "execution_count": 215,
     "metadata": {},
     "output_type": "execute_result"
    }
   ],
   "source": [
    "# converted.head()"
   ]
  },
  {
   "cell_type": "code",
   "execution_count": 270,
   "metadata": {
    "collapsed": false
   },
   "outputs": [
    {
     "data": {
      "text/html": [
       "<div>\n",
       "<table border=\"1\" class=\"dataframe\">\n",
       "  <thead>\n",
       "    <tr style=\"text-align: right;\">\n",
       "      <th></th>\n",
       "      <th>runtime</th>\n",
       "      <th>budget</th>\n",
       "    </tr>\n",
       "  </thead>\n",
       "  <tbody>\n",
       "    <tr>\n",
       "      <th>0</th>\n",
       "      <td>136</td>\n",
       "      <td>200</td>\n",
       "    </tr>\n",
       "    <tr>\n",
       "      <th>1</th>\n",
       "      <td>124</td>\n",
       "      <td>150</td>\n",
       "    </tr>\n",
       "    <tr>\n",
       "      <th>2</th>\n",
       "      <td>141</td>\n",
       "      <td>250</td>\n",
       "    </tr>\n",
       "    <tr>\n",
       "      <th>3</th>\n",
       "      <td>94</td>\n",
       "      <td>175</td>\n",
       "    </tr>\n",
       "    <tr>\n",
       "      <th>4</th>\n",
       "      <td>137</td>\n",
       "      <td>190</td>\n",
       "    </tr>\n",
       "  </tbody>\n",
       "</table>\n",
       "</div>"
      ],
      "text/plain": [
       "   runtime  budget\n",
       "0      136     200\n",
       "1      124     150\n",
       "2      141     250\n",
       "3       94     175\n",
       "4      137     190"
      ]
     },
     "execution_count": 270,
     "metadata": {},
     "output_type": "execute_result"
    }
   ],
   "source": [
    "# print pd.isnull(converted.y_values).unique()\n",
    "# print pd.isnull(converted.budget).unique()"
   ]
  },
  {
   "cell_type": "code",
   "execution_count": 217,
   "metadata": {
    "collapsed": false
   },
   "outputs": [],
   "source": [
    "converted['budget'] = converted['budget'].fillna(converted['budget'].mean())\n",
    "converted['y_values'] = converted['y_values'].fillna(converted['y_values'].mean())"
   ]
  },
  {
   "cell_type": "code",
   "execution_count": 221,
   "metadata": {
    "collapsed": false
   },
   "outputs": [],
   "source": [
    "# converted = pd.get_dummies(converted, columns = ['genre', 'hun_dist', 'rating'])\n",
    "# converted = converted.drop('rating_G', axis=1)\n",
    "# converted = converted.drop('hun_dist_-', axis=1)\n",
    "# converted = converted.drop('genre_Documentary', axis=1)\n",
    "# converted = converted.rename(columns={\n",
    "#         'hun_dist_A Company' : 'hun_dist_ACompany',\n",
    "#         'hun_dist_Big Bang' : 'hun_dist_BigBang',\n",
    "#         'hun_dist_Sony / Columbia' : 'hun_dist_SonyColumbia',\n",
    "#         'genre_Sci-Fi':'genre_SciFi',\n",
    "#         'genre_Thriller/Horror':'genre_ThrillerHorror',\n",
    "#         'rating_PG-13':'rating_PG13'\n",
    "#     })\n"
   ]
  },
  {
   "cell_type": "code",
   "execution_count": null,
   "metadata": {
    "collapsed": true
   },
   "outputs": [],
   "source": [
    "# converted = pd.get_dummies(converted, columns = ['hun_dist'])\n",
    "# converted = converted.drop('hun_dist_-', axis=1)\n",
    "# converted = converted.rename(columns={\n",
    "#         'hun_dist_A Company' : 'hun_dist_ACompany',\n",
    "#         'hun_dist_Big Bang' : 'hun_dist_BigBang',\n",
    "#         'hun_dist_Sony / Columbia' : 'hun_dist_SonyColumbia'\n",
    "#     })"
   ]
  },
  {
   "cell_type": "code",
   "execution_count": 223,
   "metadata": {
    "collapsed": false
   },
   "outputs": [
    {
     "data": {
      "text/html": [
       "<div>\n",
       "<table border=\"1\" class=\"dataframe\">\n",
       "  <thead>\n",
       "    <tr style=\"text-align: right;\">\n",
       "      <th></th>\n",
       "      <th>runtime</th>\n",
       "      <th>budget</th>\n",
       "      <th>same_dist</th>\n",
       "      <th>hun_releasedelta</th>\n",
       "      <th>foreign_releasedelta</th>\n",
       "      <th>y_values</th>\n",
       "      <th>hun_dist_ACompany</th>\n",
       "      <th>hun_dist_BigBang</th>\n",
       "      <th>hun_dist_Budapest</th>\n",
       "      <th>hun_dist_Forum</th>\n",
       "      <th>...</th>\n",
       "      <th>hun_dist_InterCom</th>\n",
       "      <th>hun_dist_Intersonic</th>\n",
       "      <th>hun_dist_Palace</th>\n",
       "      <th>hun_dist_Paramount</th>\n",
       "      <th>hun_dist_Provideo</th>\n",
       "      <th>hun_dist_SPI</th>\n",
       "      <th>hun_dist_SonyColumbia</th>\n",
       "      <th>hun_dist_United</th>\n",
       "      <th>hun_dist_Universal</th>\n",
       "      <th>hun_dist_WB</th>\n",
       "    </tr>\n",
       "  </thead>\n",
       "  <tbody>\n",
       "    <tr>\n",
       "      <th>0</th>\n",
       "      <td>136</td>\n",
       "      <td>200</td>\n",
       "      <td>0</td>\n",
       "      <td>2</td>\n",
       "      <td>-2</td>\n",
       "      <td>0.582791</td>\n",
       "      <td>0</td>\n",
       "      <td>0</td>\n",
       "      <td>0</td>\n",
       "      <td>1</td>\n",
       "      <td>...</td>\n",
       "      <td>0</td>\n",
       "      <td>0</td>\n",
       "      <td>0</td>\n",
       "      <td>0</td>\n",
       "      <td>0</td>\n",
       "      <td>0</td>\n",
       "      <td>0</td>\n",
       "      <td>0</td>\n",
       "      <td>0</td>\n",
       "      <td>0</td>\n",
       "    </tr>\n",
       "    <tr>\n",
       "      <th>1</th>\n",
       "      <td>124</td>\n",
       "      <td>150</td>\n",
       "      <td>0</td>\n",
       "      <td>0</td>\n",
       "      <td>-1</td>\n",
       "      <td>0.201818</td>\n",
       "      <td>0</td>\n",
       "      <td>0</td>\n",
       "      <td>0</td>\n",
       "      <td>0</td>\n",
       "      <td>...</td>\n",
       "      <td>0</td>\n",
       "      <td>0</td>\n",
       "      <td>0</td>\n",
       "      <td>0</td>\n",
       "      <td>0</td>\n",
       "      <td>0</td>\n",
       "      <td>0</td>\n",
       "      <td>1</td>\n",
       "      <td>0</td>\n",
       "      <td>0</td>\n",
       "    </tr>\n",
       "    <tr>\n",
       "      <th>2</th>\n",
       "      <td>141</td>\n",
       "      <td>250</td>\n",
       "      <td>0</td>\n",
       "      <td>15</td>\n",
       "      <td>-9</td>\n",
       "      <td>0.209352</td>\n",
       "      <td>0</td>\n",
       "      <td>0</td>\n",
       "      <td>0</td>\n",
       "      <td>1</td>\n",
       "      <td>...</td>\n",
       "      <td>0</td>\n",
       "      <td>0</td>\n",
       "      <td>0</td>\n",
       "      <td>0</td>\n",
       "      <td>0</td>\n",
       "      <td>0</td>\n",
       "      <td>0</td>\n",
       "      <td>0</td>\n",
       "      <td>0</td>\n",
       "      <td>0</td>\n",
       "    </tr>\n",
       "    <tr>\n",
       "      <th>3</th>\n",
       "      <td>94</td>\n",
       "      <td>175</td>\n",
       "      <td>0</td>\n",
       "      <td>8</td>\n",
       "      <td>-2</td>\n",
       "      <td>0.243842</td>\n",
       "      <td>0</td>\n",
       "      <td>0</td>\n",
       "      <td>0</td>\n",
       "      <td>1</td>\n",
       "      <td>...</td>\n",
       "      <td>0</td>\n",
       "      <td>0</td>\n",
       "      <td>0</td>\n",
       "      <td>0</td>\n",
       "      <td>0</td>\n",
       "      <td>0</td>\n",
       "      <td>0</td>\n",
       "      <td>0</td>\n",
       "      <td>0</td>\n",
       "      <td>0</td>\n",
       "    </tr>\n",
       "    <tr>\n",
       "      <th>4</th>\n",
       "      <td>137</td>\n",
       "      <td>190</td>\n",
       "      <td>0</td>\n",
       "      <td>1</td>\n",
       "      <td>-2</td>\n",
       "      <td>0.168500</td>\n",
       "      <td>0</td>\n",
       "      <td>0</td>\n",
       "      <td>0</td>\n",
       "      <td>0</td>\n",
       "      <td>...</td>\n",
       "      <td>0</td>\n",
       "      <td>0</td>\n",
       "      <td>0</td>\n",
       "      <td>0</td>\n",
       "      <td>0</td>\n",
       "      <td>0</td>\n",
       "      <td>0</td>\n",
       "      <td>1</td>\n",
       "      <td>0</td>\n",
       "      <td>0</td>\n",
       "    </tr>\n",
       "  </tbody>\n",
       "</table>\n",
       "<p>5 rows × 22 columns</p>\n",
       "</div>"
      ],
      "text/plain": [
       "   runtime  budget  same_dist  hun_releasedelta  foreign_releasedelta  \\\n",
       "0      136     200          0                 2                    -2   \n",
       "1      124     150          0                 0                    -1   \n",
       "2      141     250          0                15                    -9   \n",
       "3       94     175          0                 8                    -2   \n",
       "4      137     190          0                 1                    -2   \n",
       "\n",
       "   y_values  hun_dist_ACompany  hun_dist_BigBang  hun_dist_Budapest  \\\n",
       "0  0.582791                  0                 0                  0   \n",
       "1  0.201818                  0                 0                  0   \n",
       "2  0.209352                  0                 0                  0   \n",
       "3  0.243842                  0                 0                  0   \n",
       "4  0.168500                  0                 0                  0   \n",
       "\n",
       "   hun_dist_Forum     ...       hun_dist_InterCom  hun_dist_Intersonic  \\\n",
       "0               1     ...                       0                    0   \n",
       "1               0     ...                       0                    0   \n",
       "2               1     ...                       0                    0   \n",
       "3               1     ...                       0                    0   \n",
       "4               0     ...                       0                    0   \n",
       "\n",
       "   hun_dist_Palace  hun_dist_Paramount  hun_dist_Provideo  hun_dist_SPI  \\\n",
       "0                0                   0                  0             0   \n",
       "1                0                   0                  0             0   \n",
       "2                0                   0                  0             0   \n",
       "3                0                   0                  0             0   \n",
       "4                0                   0                  0             0   \n",
       "\n",
       "   hun_dist_SonyColumbia  hun_dist_United  hun_dist_Universal  hun_dist_WB  \n",
       "0                      0                0                   0            0  \n",
       "1                      0                1                   0            0  \n",
       "2                      0                0                   0            0  \n",
       "3                      0                0                   0            0  \n",
       "4                      0                1                   0            0  \n",
       "\n",
       "[5 rows x 22 columns]"
      ]
     },
     "execution_count": 223,
     "metadata": {},
     "output_type": "execute_result"
    }
   ],
   "source": [
    "converted.head()"
   ]
  },
  {
   "cell_type": "code",
   "execution_count": 271,
   "metadata": {
    "collapsed": true
   },
   "outputs": [],
   "source": [
    "third_try = df.copy()"
   ]
  },
  {
   "cell_type": "code",
   "execution_count": 272,
   "metadata": {
    "collapsed": false
   },
   "outputs": [],
   "source": [
    "third_try['foreign_total'] = third_try['foreign_total'].apply(lambda x: str(x).replace('$', '').replace(',',''))\n",
    "third_try['foreign_total'] = third_try['foreign_total'].apply(lambda x: np.nan if x=='n/a' else int(x))\n",
    "third_try['hun_total'] = third_try['hun_total'].apply(lambda x: str(x).replace('$', '').replace(',',''))\n",
    "third_try['hun_total'] = third_try['hun_total'].apply(lambda x: np.nan if x=='n/a' else int(x))\n",
    "third_try['y_values'] = (third_try['hun_total']/third_try['foreign_total']).apply(lambda x: x*100)\n",
    "third_try['budget'] = third_try['budget'].apply(lambda x: str(x).replace('$', '').replace(',','').replace('.','').replace(' million','000000'))\n",
    "third_try['budget'] = third_try['budget'].apply(lambda x: np.nan if x=='nan' else float(x)/1000000.)\n",
    "third_try['runtime'] = third_try['runtime'].apply(lambda x: x.replace('.', '').replace('hrs','hours').replace('min', 'minutes'))\n",
    "third_try['runtime'] = third_try['runtime'].apply(lambda x: pd.Timedelta(x))\n",
    "third_try['runtime'] = third_try['runtime'].apply(lambda x: x.astype(int)/6e+10)\n",
    "third_try = third_try[['y_values', 'runtime', 'budget']]"
   ]
  },
  {
   "cell_type": "code",
   "execution_count": 291,
   "metadata": {
    "collapsed": false
   },
   "outputs": [
    {
     "name": "stdout",
     "output_type": "stream",
     "text": [
      "<class 'pandas.core.frame.DataFrame'>\n",
      "Int64Index: 478 entries, 0 to 477\n",
      "Data columns (total 2 columns):\n",
      "runtime    478 non-null float64\n",
      "budget     478 non-null float64\n",
      "dtypes: float64(2)\n",
      "memory usage: 11.2 KB\n"
     ]
    }
   ],
   "source": [
    "third_try.info()"
   ]
  },
  {
   "cell_type": "code",
   "execution_count": 252,
   "metadata": {
    "collapsed": false
   },
   "outputs": [],
   "source": [
    "from sklearn import cross_validation"
   ]
  },
  {
   "cell_type": "code",
   "execution_count": 253,
   "metadata": {
    "collapsed": true
   },
   "outputs": [],
   "source": [
    "from sklearn.linear_model import Ridge"
   ]
  },
  {
   "cell_type": "code",
   "execution_count": 226,
   "metadata": {
    "collapsed": false
   },
   "outputs": [],
   "source": [
    "# y_values = converted['y_values'].copy()\n",
    "# converted = converted.drop('y_values', axis=1)"
   ]
  },
  {
   "cell_type": "code",
   "execution_count": 286,
   "metadata": {
    "collapsed": true
   },
   "outputs": [],
   "source": [
    "y_values = third_try['y_values'].copy()\n",
    "third_try = third_try.drop('y_values', axis=1)"
   ]
  },
  {
   "cell_type": "code",
   "execution_count": 287,
   "metadata": {
    "collapsed": true
   },
   "outputs": [],
   "source": [
    "training_x, TEST_DATA_x, training_y, TEST_DATA_y = cross_validation.train_test_split(third_try, y_values, test_size=0.2)"
   ]
  },
  {
   "cell_type": "code",
   "execution_count": 288,
   "metadata": {
    "collapsed": false
   },
   "outputs": [],
   "source": [
    "# factors.reset_index(drop=True, inplace=True)\n",
    "# TEST_DATASET.reset_index(drop=True, inplace=True)\n",
    "\n",
    "training_x.reset_index(drop=True, inplace=True)\n",
    "TEST_DATA_x.reset_index(drop=True, inplace=True)\n",
    "training_y.reset_index(drop=True, inplace=True)\n",
    "TEST_DATA_y.reset_index(drop=True, inplace=True)"
   ]
  },
  {
   "cell_type": "code",
   "execution_count": 289,
   "metadata": {
    "collapsed": false
   },
   "outputs": [],
   "source": [
    "training_x = training_x.as_matrix()\n",
    "training_y = training_y.as_matrix()\n",
    "TEST_DATA_x = TEST_DATA_x.as_matrix()\n",
    "TEST_DATA_y = TEST_DATA_y.as_matrix()"
   ]
  },
  {
   "cell_type": "code",
   "execution_count": 294,
   "metadata": {
    "collapsed": false
   },
   "outputs": [],
   "source": [
    "\"\"\"CREATING CROSS VALDIATION SETS\"\"\"\n",
    "\"\"\"I only have 435 rows so I will have a 3:1 ratio\"\"\"\n",
    "\n",
    "ss = cross_validation.KFold(382, n_folds=3, shuffle=True)"
   ]
  },
  {
   "cell_type": "code",
   "execution_count": 293,
   "metadata": {
    "collapsed": false
   },
   "outputs": [
    {
     "data": {
      "text/plain": [
       "(382, 2)"
      ]
     },
     "execution_count": 293,
     "metadata": {},
     "output_type": "execute_result"
    }
   ],
   "source": [
    "training_x.shape"
   ]
  },
  {
   "cell_type": "code",
   "execution_count": 232,
   "metadata": {
    "collapsed": true
   },
   "outputs": [],
   "source": [
    "from scipy import stats"
   ]
  },
  {
   "cell_type": "code",
   "execution_count": 263,
   "metadata": {
    "collapsed": false
   },
   "outputs": [],
   "source": [
    "alphas_sem = {}"
   ]
  },
  {
   "cell_type": "code",
   "execution_count": 264,
   "metadata": {
    "collapsed": true
   },
   "outputs": [],
   "source": [
    "potential_alphas = [x for x in range(100) if x%5==0]"
   ]
  },
  {
   "cell_type": "code",
   "execution_count": 295,
   "metadata": {
    "collapsed": false
   },
   "outputs": [],
   "source": [
    "for a in potential_alphas:\n",
    "    for k, (cvtrain, cvtest) in enumerate(ss):\n",
    "        ridge = Ridge(alpha=a)\n",
    "        sem_list = []\n",
    "        ridge.fit(training_x[cvtrain], training_y[cvtrain])\n",
    "        predictions = ridge.predict(training_x[cvtest])\n",
    "        residuals = predictions - training_y[cvtest]\n",
    "        sem = stats.sem(residuals)\n",
    "        sem_list.append(sem)\n",
    "    sem_mean = np.array(sem_list).mean()\n",
    "    alphas_sem[a] = sem_mean"
   ]
  },
  {
   "cell_type": "code",
   "execution_count": 178,
   "metadata": {
    "collapsed": false
   },
   "outputs": [],
   "source": [
    "sem_mean = np.array(sem_list).mean()"
   ]
  },
  {
   "cell_type": "code",
   "execution_count": 179,
   "metadata": {
    "collapsed": true
   },
   "outputs": [],
   "source": [
    "alphas_sem = {0: sem_mean}"
   ]
  },
  {
   "cell_type": "code",
   "execution_count": 181,
   "metadata": {
    "collapsed": false
   },
   "outputs": [],
   "source": [
    "ridge2 = Ridge(alpha=10)"
   ]
  },
  {
   "cell_type": "code",
   "execution_count": 182,
   "metadata": {
    "collapsed": true
   },
   "outputs": [],
   "source": [
    "sem_list = []\n",
    "for k, (cvtrain, cvtest) in enumerate(ss):\n",
    "    ridge2.fit(training_x[cvtrain], training_y[cvtrain])\n",
    "    predictions = ridge2.predict(training_x[cvtest])\n",
    "    residuals = predictions - training_y[cvtest]\n",
    "    sem = stats.sem(residuals)\n",
    "    sem_list.append(sem)"
   ]
  },
  {
   "cell_type": "code",
   "execution_count": 184,
   "metadata": {
    "collapsed": false
   },
   "outputs": [],
   "source": [
    "sem_mean = np.array(sem_list).mean()"
   ]
  },
  {
   "cell_type": "code",
   "execution_count": 185,
   "metadata": {
    "collapsed": true
   },
   "outputs": [],
   "source": [
    "alphas_sem[10] = sem_mean"
   ]
  },
  {
   "cell_type": "code",
   "execution_count": 187,
   "metadata": {
    "collapsed": false
   },
   "outputs": [],
   "source": [
    "ridge3 = Ridge(alpha=15)"
   ]
  },
  {
   "cell_type": "code",
   "execution_count": 189,
   "metadata": {
    "collapsed": false
   },
   "outputs": [],
   "source": [
    "sem_list = []\n",
    "for k, (cvtrain, cvtest) in enumerate(ss):\n",
    "    ridge3.fit(training_x[cvtrain], training_y[cvtrain])\n",
    "    predictions = ridge3.predict(training_x[cvtest])\n",
    "    residuals = predictions - training_y[cvtest]\n",
    "    sem = stats.sem(residuals)\n",
    "    sem_list.append(sem)\n",
    "sem_mean = np.array(sem_list).mean()\n",
    "alphas_sem[15] = sem_mean"
   ]
  },
  {
   "cell_type": "code",
   "execution_count": 191,
   "metadata": {
    "collapsed": false
   },
   "outputs": [],
   "source": [
    "ridge4 = Ridge(alpha=20)"
   ]
  },
  {
   "cell_type": "code",
   "execution_count": 192,
   "metadata": {
    "collapsed": true
   },
   "outputs": [],
   "source": [
    "sem_list = []\n",
    "for k, (cvtrain, cvtest) in enumerate(ss):\n",
    "    ridge4.fit(training_x[cvtrain], training_y[cvtrain])\n",
    "    predictions = ridge4.predict(training_x[cvtest])\n",
    "    residuals = predictions - training_y[cvtest]\n",
    "    sem = stats.sem(residuals)\n",
    "    sem_list.append(sem)\n",
    "sem_mean = np.array(sem_list).mean()\n",
    "alphas_sem[20] = sem_mean"
   ]
  },
  {
   "cell_type": "code",
   "execution_count": 194,
   "metadata": {
    "collapsed": true
   },
   "outputs": [],
   "source": [
    "ridge5 = Ridge(alpha=100)\n",
    "sem_list = []\n",
    "for k, (cvtrain, cvtest) in enumerate(ss):\n",
    "    ridge5.fit(training_x[cvtrain], training_y[cvtrain])\n",
    "    predictions = ridge5.predict(training_x[cvtest])\n",
    "    residuals = predictions - training_y[cvtest]\n",
    "    sem = stats.sem(residuals)\n",
    "    sem_list.append(sem)\n",
    "sem_mean = np.array(sem_list).mean()\n",
    "alphas_sem[100] = sem_mean"
   ]
  },
  {
   "cell_type": "code",
   "execution_count": 196,
   "metadata": {
    "collapsed": true
   },
   "outputs": [],
   "source": [
    "ridge6 = Ridge(alpha=1000)\n",
    "sem_list = []\n",
    "for k, (cvtrain, cvtest) in enumerate(ss):\n",
    "    ridge6.fit(training_x[cvtrain], training_y[cvtrain])\n",
    "    predictions = ridge6.predict(training_x[cvtest])\n",
    "    residuals = predictions - training_y[cvtest]\n",
    "    sem = stats.sem(residuals)\n",
    "    sem_list.append(sem)\n",
    "sem_mean = np.array(sem_list).mean()\n",
    "alphas_sem[1000] = sem_mean"
   ]
  },
  {
   "cell_type": "code",
   "execution_count": 245,
   "metadata": {
    "collapsed": false
   },
   "outputs": [
    {
     "data": {
      "text/plain": [
       "{0: 75413602.1569387,\n",
       " 10: 0.19119628251574272,\n",
       " 15: 0.17861891419703935,\n",
       " 20: 0.16820867882028093,\n",
       " 100: 0.08564228199152636,\n",
       " 1000: 0.046289145404559515}"
      ]
     },
     "execution_count": 245,
     "metadata": {},
     "output_type": "execute_result"
    }
   ],
   "source": [
    "first_pass"
   ]
  },
  {
   "cell_type": "code",
   "execution_count": 299,
   "metadata": {
    "collapsed": false
   },
   "outputs": [
    {
     "data": {
      "text/plain": [
       "{0: 0.032861725582217206,\n",
       " 5: 0.032138640639655498,\n",
       " 10: 0.032053471940298596,\n",
       " 15: 0.032017527636784157,\n",
       " 20: 0.031996709638281912,\n",
       " 25: 0.031982845606176639,\n",
       " 30: 0.031972913384831027,\n",
       " 35: 0.031965492065205159,\n",
       " 40: 0.031959802029400977,\n",
       " 45: 0.031955367965983958,\n",
       " 50: 0.031951877733065619,\n",
       " 55: 0.031949115026574673,\n",
       " 60: 0.03194692386683632,\n",
       " 65: 0.031945188323507012,\n",
       " 70: 0.031943820183823635,\n",
       " 75: 0.03194275105944458,\n",
       " 80: 0.031941927120468512,\n",
       " 85: 0.031941305460914886,\n",
       " 90: 0.03194085151890224,\n",
       " 95: 0.031940537202139213}"
      ]
     },
     "execution_count": 299,
     "metadata": {},
     "output_type": "execute_result"
    }
   ],
   "source": [
    "second_pass"
   ]
  },
  {
   "cell_type": "code",
   "execution_count": 298,
   "metadata": {
    "collapsed": false
   },
   "outputs": [
    {
     "data": {
      "text/plain": [
       "{0: 0.035623085062496743,\n",
       " 5: 0.035623057567691296,\n",
       " 10: 0.035623030077145471,\n",
       " 15: 0.035623002590858314,\n",
       " 20: 0.035622975108828836,\n",
       " 25: 0.035622947631056091,\n",
       " 30: 0.03562292015753913,\n",
       " 35: 0.03562289268827698,\n",
       " 40: 0.035622865223268685,\n",
       " 45: 0.035622837762513279,\n",
       " 50: 0.035622810306009819,\n",
       " 55: 0.035622782853757327,\n",
       " 60: 0.035622755405754873,\n",
       " 65: 0.035622727962001458,\n",
       " 70: 0.035622700522496151,\n",
       " 75: 0.035622673087237995,\n",
       " 80: 0.035622645656226026,\n",
       " 85: 0.03562261822945928,\n",
       " 90: 0.035622590806936812,\n",
       " 95: 0.035622563388657658}"
      ]
     },
     "execution_count": 298,
     "metadata": {},
     "output_type": "execute_result"
    }
   ],
   "source": [
    "third_pass"
   ]
  },
  {
   "cell_type": "code",
   "execution_count": 242,
   "metadata": {
    "collapsed": false
   },
   "outputs": [],
   "source": [
    "first_pass = {0: 75413602.156938702,\n",
    " 10: 0.19119628251574272,\n",
    " 15: 0.17861891419703935,\n",
    " 20: 0.16820867882028093,\n",
    " 100: 0.085642281991526362,\n",
    " 1000: 0.046289145404559515}"
   ]
  },
  {
   "cell_type": "code",
   "execution_count": 22,
   "metadata": {
    "collapsed": false
   },
   "outputs": [
    {
     "data": {
      "text/plain": [
       "'IGNORE EVERYTHING BELOW THIS'"
      ]
     },
     "execution_count": 22,
     "metadata": {},
     "output_type": "execute_result"
    }
   ],
   "source": [
    "\"\"\"IGNORE EVERYTHING BELOW THIS\"\"\"\n",
    "\"\"\"IGNORE EVERYTHING BELOW THIS\"\"\"\n",
    "\"\"\"IGNORE EVERYTHING BELOW THIS\"\"\"\n",
    "\"\"\"IGNORE EVERYTHING BELOW THIS\"\"\"\n",
    "\"\"\"IGNORE EVERYTHING BELOW THIS\"\"\"\n",
    "\"\"\"IGNORE EVERYTHING BELOW THIS\"\"\"\n",
    "\"\"\"IGNORE EVERYTHING BELOW THIS\"\"\"\n",
    "\"\"\"IGNORE EVERYTHING BELOW THIS\"\"\"\n",
    "\"\"\"IGNORE EVERYTHING BELOW THIS\"\"\"\n",
    "\"\"\"IGNORE EVERYTHING BELOW THIS\"\"\"\n",
    "\"\"\"IGNORE EVERYTHING BELOW THIS\"\"\"\n",
    "\"\"\"IGNORE EVERYTHING BELOW THIS\"\"\"\n",
    "\"\"\"IGNORE EVERYTHING BELOW THIS\"\"\"\n",
    "\"\"\"IGNORE EVERYTHING BELOW THIS\"\"\"\n",
    "\"\"\"IGNORE EVERYTHING BELOW THIS\"\"\"\n",
    "\"\"\"IGNORE EVERYTHING BELOW THIS\"\"\"\n",
    "\"\"\"IGNORE EVERYTHING BELOW THIS\"\"\"\n",
    "\"\"\"IGNORE EVERYTHING BELOW THIS\"\"\"\n",
    "\"\"\"IGNORE EVERYTHING BELOW THIS\"\"\""
   ]
  },
  {
   "cell_type": "code",
   "execution_count": 137,
   "metadata": {
    "collapsed": false
   },
   "outputs": [],
   "source": [
    "ridge = Ridge(alpha=0)\n",
    "ridge.fit(train_4_x, train_4_y)\n",
    "predictions = ridge.predict(cvtest_4_x)\n",
    "residual_0_4 = predictions - cvtest_4_y\n",
    "sem_0_4 = stats.sem(residual_0_4)\n",
    "sem_list.append(sem_0_4)\n",
    "\n",
    "ridge = Ridge(alpha=0)\n",
    "ridge.fit(train_3_x, train_3_y)\n",
    "predictions = ridge.predict(cvtest_3_x)\n",
    "residual_0_3 = predictions - cvtest_3_y\n",
    "sem_0_3 = stats.sem(residual_0_3)\n",
    "sem_list.append(sem_0_3)\n",
    "\n",
    "ridge = Ridge(alpha=0)\n",
    "ridge.fit(train_1_x, train_1_y)\n",
    "predictions = ridge.predict(cvtest_1_x)\n",
    "residual_0_1 = predictions - cvtest_1_y\n",
    "sem_0_1 = stats.sem(residual_0_1)\n",
    "sem_list.append(sem_0_1)\n",
    "\n",
    "ridge = Ridge(alpha=0)\n",
    "ridge.fit(train_2_x, train_2_y)\n",
    "predictions = ridge.predict(cvtest_2_x)\n",
    "residual_0_2 = predictions - cvtest_2_y\n",
    "sem_0_2 = stats.sem(residual_0_2)\n",
    "sem_list.append(sem_0_2)"
   ]
  },
  {
   "cell_type": "code",
   "execution_count": 51,
   "metadata": {
    "collapsed": false
   },
   "outputs": [],
   "source": [
    "\"\"\"CREATING CROSS VALDIATION SETS\"\"\"\n",
    "\"\"\"I only have 435 rows so I will have a 3:1 ratio\"\"\"\n",
    "\n",
    "train_1_x = training_x[0:326].copy()\n",
    "train_1_y = training_y[0:326].copy()\n",
    "cvtest_1_x = training_x[326:435].copy().reset_index(drop=True)\n",
    "cvtest_1_y = training_y[326:435].copy().reset_index(drop=True)\n",
    "\n",
    "train_2_x = (training_x[0:217].copy().append(training_x[326:435].copy())).reset_index(drop=True)\n",
    "train_2_y = (training_y[0:217].copy().append(training_y[326:435].copy())).reset_index(drop=True)\n",
    "cvtest_2_x = (training_x[217:326]).reset_index(drop=True)\n",
    "cvtest_2_y = (training_y[217:326]).reset_index(drop=True)\n",
    "\n",
    "train_3_x = (training_x[0:108].copy().append(training_x[217:435].copy())).reset_index(drop=True)\n",
    "train_3_y = (training_y[0:108].copy().append(training_y[217:435].copy())).reset_index(drop=True)\n",
    "cvtest_3_x = (training_x[108:217]).reset_index(drop=True)\n",
    "cvtest_3_y = (training_y[108:217]).reset_index(drop=True)\n",
    "\n",
    "train_4_x = training_x[108:435].copy()\n",
    "train_4_y = training_y[108:435].copy()\n",
    "cvtest_4_x = training_x[0:108].copy().reset_index(drop=True)\n",
    "cvtest_4_y = training_y[0:108].copy().reset_index(drop=True)\n",
    "\n",
    "train_1_x = train_1_x.as_matrix()\n",
    "train_1_y = train_1_y.as_matrix()\n",
    "cvtest_1_x = cvtest_1_x.as_matrix()\n",
    "cvtest_1_y = cvtest_1_y.as_matrix()\n",
    "\n",
    "train_2_x = train_2_x.as_matrix()\n",
    "train_2_y = train_2_y.as_matrix()\n",
    "cvtest_2_x = cvtest_2_x.as_matrix()\n",
    "cvtest_2_y = cvtest_2_y.as_matrix()\n",
    "\n",
    "train_3_x = train_3_x.as_matrix()\n",
    "train_3_y = train_3_y.as_matrix()\n",
    "cvtest_3_x = cvtest_3_x.as_matrix()\n",
    "cvtest_3_y = cvtest_3_y.as_matrix()\n",
    "\n",
    "train_4_x = train_4_x.as_matrix()\n",
    "train_4_y = train_4_y.as_matrix()\n",
    "cvtest_4_x = cvtest_4_x.as_matrix()\n",
    "cvtest_4_y = cvtest_4_y.as_matrix()"
   ]
  },
  {
   "cell_type": "code",
   "execution_count": 53,
   "metadata": {
    "collapsed": false
   },
   "outputs": [
    {
     "name": "stdout",
     "output_type": "stream",
     "text": [
      "(326, 34) (326,)\n",
      "(108, 34) (108,)\n",
      "\n",
      "(325, 34) (325,)\n",
      "(109, 34) (109,)\n",
      "\n",
      "(325, 34) (325,)\n",
      "(109, 34) (109,)\n",
      "\n",
      "(326, 34) (326,)\n",
      "(108, 34) (108,)\n"
     ]
    }
   ],
   "source": [
    "print train_1_x.shape, train_1_y.shape\n",
    "print cvtest_1_x.shape, cvtest_1_y.shape\n",
    "print\n",
    "print train_2_x.shape, train_2_y.shape\n",
    "print cvtest_2_x.shape, cvtest_2_y.shape\n",
    "print\n",
    "print train_3_x.shape, train_3_y.shape\n",
    "print cvtest_3_x.shape, cvtest_3_y.shape\n",
    "print\n",
    "print train_4_x.shape, train_4_y.shape\n",
    "print cvtest_4_x.shape, cvtest_4_y.shape"
   ]
  },
  {
   "cell_type": "code",
   "execution_count": 77,
   "metadata": {
    "collapsed": false
   },
   "outputs": [],
   "source": [
    "# Ridge regression!!!!!\n",
    "ridge = Ridge(alpha=0)"
   ]
  },
  {
   "cell_type": "code",
   "execution_count": 84,
   "metadata": {
    "collapsed": false
   },
   "outputs": [
    {
     "name": "stdout",
     "output_type": "stream",
     "text": [
      "[-0.29703073  0.19388543 -0.0677126  -0.05298724  0.13507867  0.09975091\n",
      " -0.04521673  0.44624696  0.07085425 -0.06658327 -0.41537895 -0.12701276\n",
      "  0.01192677  0.2278506   0.13487747  0.10953003  0.27349299  0.41525406\n",
      " -0.01156567 -0.34438383  0.02956012  0.06751622 -0.31340742 -1.55453746\n",
      "  0.10813575 -0.02675737 -0.0252461   0.11863359  0.01509661  0.03627875\n",
      "  0.23393175 -0.08208753 -0.27207312 -0.27898151  0.35134084  0.1393677\n",
      " -0.31981699 -0.90395714  0.3814794   0.03608516 -0.61808351 -1.14986122\n",
      "  0.2127933  -0.0445669   0.29661176  0.2701513  -0.13539506  0.19435149\n",
      " -0.12920262  0.10913028 -0.14302732  0.01090763 -0.45105052  0.02722214\n",
      "  0.1323472   0.03948598  0.21757386 -0.00833698  0.24863273  0.01817135\n",
      "  0.27477244  0.22838022 -0.04337883  0.66895332 -0.16845495  0.01172797\n",
      "  0.21273775 -0.97237989  0.07562358 -0.08339516 -0.06720506  0.19757871\n",
      " -0.10275074  0.17961636  0.23682776  0.40126924 -0.11836495  0.00306119\n",
      " -0.6262669  -0.49220288 -0.25254515  0.32571907 -2.00343073  0.17666962\n",
      " -0.11121752  0.44911114  0.21648594 -0.24675809 -0.2894654  -0.02363724\n",
      " -0.65249736  0.06187389  0.119895    0.02111621 -0.29638225 -0.20727963\n",
      "  0.16043557  0.4690804   0.07824728 -0.09333565  0.50263414 -0.62791482\n",
      "  0.13207529 -0.13266238 -0.08635404 -0.54504686  0.03097538  0.09658792]\n"
     ]
    }
   ],
   "source": []
  },
  {
   "cell_type": "code",
   "execution_count": 136,
   "metadata": {
    "collapsed": true
   },
   "outputs": [],
   "source": [
    "sem_list = []"
   ]
  },
  {
   "cell_type": "code",
   "execution_count": 138,
   "metadata": {
    "collapsed": false
   },
   "outputs": [
    {
     "data": {
      "text/plain": [
       "[109593643.50150286,\n",
       " 69433211.698104098,\n",
       " 0.037299316718429877,\n",
       " 9469790.641383199]"
      ]
     },
     "execution_count": 138,
     "metadata": {},
     "output_type": "execute_result"
    }
   ],
   "source": [
    "sem_list"
   ]
  },
  {
   "cell_type": "code",
   "execution_count": 108,
   "metadata": {
    "collapsed": false
   },
   "outputs": [
    {
     "name": "stdout",
     "output_type": "stream",
     "text": [
      "[ -7.79749835e+09  -1.77413864e+09  -1.25156267e+00  -1.01799193e+00\n",
      "  -8.86988697e-01  -8.05298605e-01  -7.32001031e-01  -6.44949221e-01\n",
      "  -6.03065223e-01  -5.70465083e-01  -4.10015258e-01  -3.99059754e-01\n",
      "  -3.88722707e-01  -3.83321572e-01  -3.30776425e-01  -3.23580960e-01\n",
      "  -2.96116548e-01  -2.92885715e-01  -2.69245496e-01  -2.65725428e-01\n",
      "  -2.33123400e-01  -2.19371783e-01  -1.68409882e-01  -1.45771821e-01\n",
      "  -1.43920756e-01  -1.39881784e-01  -1.37955243e-01  -1.34881992e-01\n",
      "  -1.34780393e-01  -1.28278575e-01  -8.61499092e-02  -7.82679576e-02\n",
      "  -7.12162500e-02  -6.48120471e-02  -5.90405435e-02  -5.59951586e-02\n",
      "  -5.12588357e-02  -4.99033659e-02  -4.59367862e-02  -4.56844231e-02\n",
      "  -4.36345434e-02  -4.07896287e-02  -2.87839109e-02  -2.64849114e-02\n",
      "  -2.51713658e-02  -2.06203192e-02  -1.98438928e-02  -1.93630461e-02\n",
      "  -1.89314419e-02  -1.52564838e-02  -1.23929143e-02  -7.51376457e-03\n",
      "  -7.34711847e-03  -2.97140553e-03  -7.99553517e-04   2.69135842e-03\n",
      "   3.63732431e-03   8.59590599e-03   1.00799404e-02   1.29997719e-02\n",
      "   2.02911465e-02   2.11293581e-02   2.23831713e-02   2.31733468e-02\n",
      "   2.46244693e-02   2.62288420e-02   2.62528830e-02   3.03410589e-02\n",
      "   3.62816847e-02   3.98819519e-02   4.87752992e-02   6.28658048e-02\n",
      "   6.59499390e-02   7.70980843e-02   7.71822924e-02   8.80479284e-02\n",
      "   9.63650508e-02   9.98380855e-02   1.02180594e-01   1.32058953e-01\n",
      "   1.36670434e-01   1.44496244e-01   1.59438103e-01   1.65480601e-01\n",
      "   1.67139046e-01   1.74034591e-01   1.74876765e-01   1.79738745e-01\n",
      "   1.83909183e-01   1.86147059e-01   1.89852223e-01   2.04788982e-01\n",
      "   2.39470400e-01   2.44825293e-01   2.46458475e-01   2.52655798e-01\n",
      "   2.63318607e-01   2.63890053e-01   2.80167479e-01   2.99728018e-01\n",
      "   3.02216901e-01   3.13814352e-01   3.20874301e-01   3.66519624e-01\n",
      "   3.90553843e-01   4.70624177e-01   5.86942402e-01   8.65191908e+09]\n"
     ]
    }
   ],
   "source": [
    "residual_0_4.sort()\n",
    "print residual_0_4"
   ]
  },
  {
   "cell_type": "code",
   "execution_count": 97,
   "metadata": {
    "collapsed": false
   },
   "outputs": [
    {
     "name": "stdout",
     "output_type": "stream",
     "text": [
      "-1032207179.25 1.22409019871\n"
     ]
    }
   ],
   "source": [
    "print predictions[41], cvtest_1_y[41]"
   ]
  },
  {
   "cell_type": "code",
   "execution_count": 98,
   "metadata": {
    "collapsed": false
   },
   "outputs": [
    {
     "data": {
      "text/plain": [
       "array([ 113.,  200.,    0.,   36.,   -2.,    0.,    0.,    0.,    0.,\n",
       "          1.,    0.,    0.,    0.,    0.,    0.,    0.,    0.,    0.,\n",
       "          1.,    0.,    0.,    0.,    0.,    0.,    0.,    0.,    0.,\n",
       "          0.,    0.,    0.,    0.,    0.,    0.,    0.])"
      ]
     },
     "execution_count": 98,
     "metadata": {},
     "output_type": "execute_result"
    }
   ],
   "source": [
    "train_2_x[41]"
   ]
  },
  {
   "cell_type": "code",
   "execution_count": 84,
   "metadata": {
    "collapsed": false
   },
   "outputs": [],
   "source": [
    "ridge.fit(train2, train2y)\n",
    "predictions = ridge.predict(cvtest2)\n",
    "residual_0_2 = predictions - cvtest2y\n",
    "residual_list.append(residual_0_2)\n",
    "sem_0_2 = stats.sem(residual_0_2)\n",
    "sem_list.append(sem_0_2)\n",
    "coef_0_2 = ridge.coef_\n",
    "coefficients_list.append(coef_0_2)\n",
    "lambda_candidates[0].append(ridge.score(train2, train2y))"
   ]
  },
  {
   "cell_type": "code",
   "execution_count": null,
   "metadata": {
    "collapsed": true
   },
   "outputs": [],
   "source": [
    "ridge.fit(train3, train3y)\n",
    "predictions = ridge.predict(cvtest3)\n",
    "residual_0_3 = predictions - cvtest3y\n",
    "residual_list.append(residual_0_3)\n",
    "sem_0_3 = stats.sem(residual_0_3)\n",
    "sem_list.append(sem_0_3)\n",
    "coef_0_3 = ridge.coef_\n",
    "coefficients_list.append(coef_0_3)\n",
    "lambda_candidates[0].append(ridge.score(train2, train2y))"
   ]
  },
  {
   "cell_type": "code",
   "execution_count": 86,
   "metadata": {
    "collapsed": true
   },
   "outputs": [],
   "source": [
    "ridge.fit(train4, train4y)\n",
    "predictions = ridge.predict(cvtest4)\n",
    "residual_0_4 = predictions - cvtest4y\n",
    "residual_list.append(residual_0_4)\n",
    "sem_0_4 = stats.sem(residual_0_4)\n",
    "sem_list.append(sem_0_4)\n",
    "coef_0_4 = ridge.coef_\n",
    "coefficients_list.append(coef_0_4)\n",
    "lambda_candidates[0].append(ridge.score(train4, train4y))"
   ]
  },
  {
   "cell_type": "code",
   "execution_count": 93,
   "metadata": {
    "collapsed": false
   },
   "outputs": [
    {
     "name": "stdout",
     "output_type": "stream",
     "text": [
      "[  2.09813471e-06  -8.07682935e-12   2.22475778e+04   9.77511613e-08\n",
      "  -9.80516592e-08   7.86190099e+03   7.86190150e+03   7.86190474e+03\n",
      "   7.86190020e+03   7.86190354e+03   7.86190165e+03   7.86190136e+03\n",
      "   7.86190017e+03   7.86190110e+03   7.86190000e+03  -2.38405571e-03\n",
      "   1.72315145e-03   8.07656121e-05  -3.88260587e-05  -2.22475786e+04\n",
      "  -3.05644290e-03   6.43532266e-04  -2.83777959e-03   1.40827622e-03\n",
      "  -5.02461856e+02   2.66883743e-03  -1.25512478e-03   1.73458077e-03\n",
      "   2.53641704e-04  -1.75219052e+04   4.29192519e-04   5.68878034e-04\n",
      "   2.24330657e-03   2.69733554e-03] [ -1.10503745e-05  -6.17218759e-12   1.43492987e-03  -4.68464531e-07\n",
      "   4.69435109e-07   1.96419187e+04   1.96419189e+04   1.96419220e+04\n",
      "   1.96419194e+04   1.96419210e+04   1.96419198e+04   1.96419176e+04\n",
      "   1.96419193e+04   1.96419192e+04   1.96419186e+04   2.84681749e-03\n",
      "   5.59934742e-04  -2.17890504e-03  -1.15092798e-03  -2.68141660e-03\n",
      "  -3.06748877e-03  -5.50340219e-04  -5.20367800e+02  -1.17423865e-03\n",
      "  -1.61435070e+04   1.50607189e-03  -1.59470180e-03   5.83761134e-04\n",
      "  -5.03088926e-04   5.50138142e+03  -7.34031228e-04   2.11763048e-04\n",
      "   1.54608123e-03   2.08755352e-03]"
     ]
    },
    {
     "ename": "NameError",
     "evalue": "name 'coef_0_3' is not defined",
     "output_type": "error",
     "traceback": [
      "\u001b[0;31m---------------------------------------------------------------------------\u001b[0m",
      "\u001b[0;31mNameError\u001b[0m                                 Traceback (most recent call last)",
      "\u001b[0;32m<ipython-input-93-f4cbf5e5c43e>\u001b[0m in \u001b[0;36m<module>\u001b[0;34m()\u001b[0m\n\u001b[1;32m      1\u001b[0m \u001b[0mlambda_candidates\u001b[0m\u001b[0;34m[\u001b[0m\u001b[0;36m0\u001b[0m\u001b[0;34m]\u001b[0m\u001b[0;34m\u001b[0m\u001b[0m\n\u001b[0;32m----> 2\u001b[0;31m \u001b[0;32mprint\u001b[0m \u001b[0mcoef_0_1\u001b[0m\u001b[0;34m,\u001b[0m \u001b[0mcoef_0_2\u001b[0m\u001b[0;34m,\u001b[0m \u001b[0mcoef_0_3\u001b[0m\u001b[0;34m,\u001b[0m \u001b[0mcoef_0_4\u001b[0m\u001b[0;34m\u001b[0m\u001b[0m\n\u001b[0m",
      "\u001b[0;31mNameError\u001b[0m: name 'coef_0_3' is not defined"
     ]
    }
   ],
   "source": [
    "lambda_candidates[0]\n",
    "print coef_0_1, coef_0_2, coef_0_3, coef_0_4"
   ]
  },
  {
   "cell_type": "code",
   "execution_count": 60,
   "metadata": {
    "collapsed": false
   },
   "outputs": [],
   "source": [
    "# Draw a heatmap with the numeric values in each cell\n",
    "# correlation = factors_x.corr()\n",
    "# heatmap = sns.heatmap(correlation, annot=True, fmt=\"d\", linewidths=.5)\n",
    "# heatmap.savefig('heatmap.png')"
   ]
  },
  {
   "cell_type": "code",
   "execution_count": 24,
   "metadata": {
    "collapsed": true
   },
   "outputs": [],
   "source": [
    "# import statsmodels.api as sm"
   ]
  },
  {
   "cell_type": "code",
   "execution_count": null,
   "metadata": {
    "collapsed": true
   },
   "outputs": [],
   "source": [
    "# x = factors.drop('y_values', axis=1).fillna(0).as_matrix() # convert to numpy array\n",
    "# y = (factors['y_values']*100).fillna(0).as_matrix() # convert to numpy array"
   ]
  },
  {
   "cell_type": "code",
   "execution_count": 37,
   "metadata": {
    "collapsed": false
   },
   "outputs": [],
   "source": [
    "# model = sm.OLS('y_values ~  budget + same_dist + genre_Action + genre_Adventure + genre_Comedy + genre_Drama + genre_Family + genre_Fantasy+ genre_Music + genre_Romance + genre_SciFi + genre_ThrillerHorror + hun_dist_ACompany + hun_dist_BigBang + hun_dist_Budapest + hun_dist_Forum + hun_dist_Fox + hun_dist_InterCom + hun_dist_Intersonic + hun_dist_Palace + hun_dist_Paramount + hun_dist_Provideo + hun_dist_SPI + hun_dist_SonyColumbia + hun_dist_United + hun_dist_Universal + hun_dist_WB + rating_G + rating_PG + rating_PG13', data=factors)\n",
    "# model = sm.OLS('y_values ~ runtime + budget + hun_opening + same_dist', data=factors)"
   ]
  },
  {
   "cell_type": "code",
   "execution_count": 20,
   "metadata": {
    "collapsed": false
   },
   "outputs": [],
   "source": [
    "# model = sm.ols('y_values ~  budget + same_dist + genre_Action + genre_Adventure \\\n",
    "#             + genre_Comedy + genre_Drama + genre_Family + genre_Fantasy+ genre_Music \\\n",
    "#             + genre_Romance + genre_SciFi + genre_ThrillerHorror + hun_dist_ACompany \\\n",
    "#             + hun_dist_BigBang + hun_dist_Budapest + hun_dist_Forum + hun_dist_Fox \\\n",
    "#             + hun_dist_InterCom + hun_dist_Intersonic + hun_dist_Palace + hun_dist_Paramount \\\n",
    "#             + hun_dist_Provideo + hun_dist_SPI + hun_dist_SonyColumbia + hun_dist_United \\\n",
    "#             + hun_dist_Universal + hun_dist_WB + rating_G + rating_PG + rating_PG13', data=factors_2)\n",
    "# results = model.fit()\n",
    "# print('Parameters: ', results.params)\n",
    "# print('R2: ', results.rsquared)\n",
    "# print(results.summary())"
   ]
  },
  {
   "cell_type": "code",
   "execution_count": 21,
   "metadata": {
    "collapsed": false
   },
   "outputs": [],
   "source": [
    "# x = factors_2['budget'].fillna(0)\n",
    "# y = factors_2['y_values'].fillna(0)\n",
    "# new_df = pd.DataFrame({'X':x, 'Y':y})\n",
    "# model = sm.ols('Y ~ X', data=new_df)\n",
    "# results = model.fit()\n",
    "# print('Parameters: ', results.params)\n",
    "# print('R2: ', results.rsquared)\n",
    "# print(results.summary())\n",
    "# results.predict(new_df['X'])\n",
    "# plt.scatter(x,y)\n",
    "# # plt.plot(x, results.predict(x), color='green',linewidth=3)"
   ]
  },
  {
   "cell_type": "markdown",
   "metadata": {},
   "source": [
    "Please picture a beautiful nearly horizontal line at y=0.46 in size 3 and color blazing green to contrast the royal blue of my datapoints. Please forgive statsmodels for being terrible and hating me."
   ]
  },
  {
   "cell_type": "code",
   "execution_count": 40,
   "metadata": {
    "collapsed": true
   },
   "outputs": [],
   "source": [
    "# from sklearn import linear_model"
   ]
  },
  {
   "cell_type": "code",
   "execution_count": 47,
   "metadata": {
    "collapsed": false
   },
   "outputs": [],
   "source": [
    "# x = (factors['budget']/1000000).fillna(0).as_matrix() # convert to numpy array\n",
    "# y = (factors['y_values']*100).fillna(0).as_matrix().reshape((1,435)) # convert to numpy array"
   ]
  },
  {
   "cell_type": "code",
   "execution_count": 48,
   "metadata": {
    "collapsed": false
   },
   "outputs": [],
   "source": [
    "# rgr = linear_model.LinearRegression() # create object\n",
    "# rgr.fit(x, y) # fit the model. takes multidimensional numpy array and single dimensional numpy array\n",
    "# pred = rgr.predict(x) # make prediction"
   ]
  },
  {
   "cell_type": "code",
   "execution_count": 58,
   "metadata": {
    "collapsed": false
   },
   "outputs": [
    {
     "name": "stdout",
     "output_type": "stream",
     "text": [
      "(1, 435)\n"
     ]
    },
    {
     "data": {
      "image/png": "[encoded data removed]",
      "text/plain": [
       "<matplotlib.figure.Figure at 0x1095b0f90>"
      ]
     },
     "metadata": {},
     "output_type": "display_data"
    }
   ],
   "source": [
    "# plt.scatter(x, y)\n",
    "# print rgr.predict(x).shape\n",
    "# plt.plot(x, rgr.predict(x.transpose(len(x), 1)), color='green', linewidth=3)"
   ]
  },
  {
   "cell_type": "code",
   "execution_count": 53,
   "metadata": {
    "collapsed": false
   },
   "outputs": [
    {
     "name": "stdout",
     "output_type": "stream",
     "text": [
      "(435,) (1, 435)\n"
     ]
    }
   ],
   "source": [
    "print x.shape, y.shape"
   ]
  }
 ],
 "metadata": {
  "kernelspec": {
   "display_name": "Python 2",
   "language": "python",
   "name": "python2"
  },
  "language_info": {
   "codemirror_mode": {
    "name": "ipython",
    "version": 2
   },
   "file_extension": ".py",
   "mimetype": "text/x-python",
   "name": "python",
   "nbconvert_exporter": "python",
   "pygments_lexer": "ipython2",
   "version": "2.7.11"
  }
 },
 "nbformat": 4,
 "nbformat_minor": 0
}
