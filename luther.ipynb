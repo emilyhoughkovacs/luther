{
 "cells": [
  {
   "cell_type": "code",
   "execution_count": 1,
   "metadata": {
    "collapsed": true
   },
   "outputs": [],
   "source": [
    "import requests\n",
    "from bs4 import BeautifulSoup\n",
    "import re\n",
    "import pandas as pd\n",
    "import numpy as np"
   ]
  },
  {
   "cell_type": "code",
   "execution_count": 2,
   "metadata": {
    "collapsed": false
   },
   "outputs": [],
   "source": [
    "url = 'http://www.boxofficemojo.com/movies/?page=intl&id=easya.htm&sort=percoftotal&order=DESC&p=.htm'\n",
    "def scrape_page(url):\n",
    "    response = requests.get(url)\n",
    "    try:\n",
    "        soup = BeautifulSoup(response.text)\n",
    "        return soup\n",
    "    except:\n",
    "        return None"
   ]
  },
  {
   "cell_type": "code",
   "execution_count": 3,
   "metadata": {
    "collapsed": false
   },
   "outputs": [],
   "source": [
    "easya = scrape_page(url)"
   ]
  },
  {
   "cell_type": "code",
   "execution_count": 29,
   "metadata": {
    "collapsed": true
   },
   "outputs": [],
   "source": [
    "movie_title = \"\"\n",
    "movie_data = []"
   ]
  },
  {
   "cell_type": "code",
   "execution_count": 30,
   "metadata": {
    "collapsed": false
   },
   "outputs": [],
   "source": [
    "movie_title = easya.find('title').text.split(\" (\")[0]"
   ]
  },
  {
   "cell_type": "code",
   "execution_count": 6,
   "metadata": {
    "collapsed": false
   },
   "outputs": [],
   "source": [
    "header = easya.find_all('td')[4]\n",
    "international = easya.find_all('table')[7]"
   ]
  },
  {
   "cell_type": "code",
   "execution_count": 7,
   "metadata": {
    "collapsed": false
   },
   "outputs": [],
   "source": [
    "# header"
   ]
  },
  {
   "cell_type": "code",
   "execution_count": 8,
   "metadata": {
    "collapsed": false
   },
   "outputs": [],
   "source": [
    "def get_header_value(table, field_name):\n",
    "    '''Grab a value from boxofficemojo HTML\n",
    "    \n",
    "    Takes a string attribute of a movie on the page and\n",
    "    returns the string in the next sibling object\n",
    "    (the value for that attribute)\n",
    "    or None if nothing is found.\n",
    "    '''\n",
    "    obj = table.find(text=re.compile(field_name))\n",
    "    # this works for most of the values\n",
    "    next_sibling = obj.findNextSibling()\n",
    "    if next_sibling:\n",
    "        return next_sibling.text \n",
    "    else:\n",
    "        return ''"
   ]
  },
  {
   "cell_type": "code",
   "execution_count": 31,
   "metadata": {
    "collapsed": false
   },
   "outputs": [],
   "source": [
    "dtg = get_header_value(header,'Domestic Total')\n",
    "dist = get_header_value(header,'Distributor')\n",
    "release = get_header_value(header, 'Release Date')\n",
    "genre = get_header_value(header, 'Genre')\n",
    "runtime = get_header_value(header,'Runtime')\n",
    "budget = get_header_value(header, 'Budget')\n",
    "rating = get_header_value(header,'MPAA Rating')\n",
    "\n",
    "movie_data.append(movie_title)\n",
    "movie_data.append(dtg)\n",
    "movie_data.append(dist)\n",
    "movie_data.append(release)\n",
    "movie_data.append(genre)\n",
    "movie_data.append(runtime)\n",
    "movie_data.append(budget)\n",
    "movie_data.append(rating)"
   ]
  },
  {
   "cell_type": "code",
   "execution_count": 10,
   "metadata": {
    "collapsed": false
   },
   "outputs": [],
   "source": [
    "# movie_data"
   ]
  },
  {
   "cell_type": "code",
   "execution_count": 19,
   "metadata": {
    "collapsed": false
   },
   "outputs": [],
   "source": [
    "countries = international.find_all('tr')\n",
    "foreign_total = []\n",
    "hungary = []"
   ]
  },
  {
   "cell_type": "code",
   "execution_count": 14,
   "metadata": {
    "collapsed": false
   },
   "outputs": [],
   "source": [
    "# do this for foreign_total and for Hungary\n",
    "# e.g. get_international('Hungary', hungary)\n",
    "def get_international(country, country_list):\n",
    "    country_data = ''\n",
    "    for row in countries:\n",
    "        data = row.find_all('td')\n",
    "        if data[0].find(text=country):\n",
    "            country_data = row\n",
    "    #get country name, insert as first element to list\n",
    "    country_list.append(country_data.find('a').contents[0])\n",
    "    columns = country_data.find_all('td')[1:]\n",
    "    for column in columns:\n",
    "        country_list.append(column.get_text())\n",
    "    return country_list"
   ]
  },
  {
   "cell_type": "code",
   "execution_count": 21,
   "metadata": {
    "collapsed": false
   },
   "outputs": [],
   "source": [
    "foreign_total = get_international('FOREIGN TOTAL', foreign_total)\n",
    "hungary = get_international('Hungary', hungary)"
   ]
  },
  {
   "cell_type": "code",
   "execution_count": 74,
   "metadata": {
    "collapsed": false
   },
   "outputs": [],
   "source": [
    "df = pd.DataFrame(columns=('title', 'dtg', 'dist', 'release', 'genre', 'runtime', 'budget', 'rating', 'foreign', 'foreign_dist', 'foreign_release', 'foreign_opening', 'foreign_pct', 'foreign_total', 'foreign_asof', 'hungary', 'hun_dist', 'hun_release', 'hun_opening', 'hun_pct', 'hun_total', 'hun_asof'))"
   ]
  },
  {
   "cell_type": "code",
   "execution_count": 76,
   "metadata": {
    "collapsed": false
   },
   "outputs": [],
   "source": [
    "row = movie_data+foreign_total+hungary"
   ]
  },
  {
   "cell_type": "code",
   "execution_count": 77,
   "metadata": {
    "collapsed": false
   },
   "outputs": [],
   "source": [
    "row_s = pd.Series(row, index=df.columns)"
   ]
  },
  {
   "cell_type": "code",
   "execution_count": 79,
   "metadata": {
    "collapsed": false
   },
   "outputs": [],
   "source": [
    "df = df.append(row_s, ignore_index=True)"
   ]
  },
  {
   "cell_type": "code",
   "execution_count": 80,
   "metadata": {
    "collapsed": false
   },
   "outputs": [
    {
     "data": {
      "text/html": [
       "<div>\n",
       "<table border=\"1\" class=\"dataframe\">\n",
       "  <thead>\n",
       "    <tr style=\"text-align: right;\">\n",
       "      <th></th>\n",
       "      <th>title</th>\n",
       "      <th>dtg</th>\n",
       "      <th>dist</th>\n",
       "      <th>release</th>\n",
       "      <th>genre</th>\n",
       "      <th>runtime</th>\n",
       "      <th>budget</th>\n",
       "      <th>rating</th>\n",
       "      <th>foreign</th>\n",
       "      <th>foreign_dist</th>\n",
       "      <th>...</th>\n",
       "      <th>foreign_pct</th>\n",
       "      <th>foreign_total</th>\n",
       "      <th>foreign_asof</th>\n",
       "      <th>hungary</th>\n",
       "      <th>hun_dist</th>\n",
       "      <th>hun_release</th>\n",
       "      <th>hun_opening</th>\n",
       "      <th>hun_pct</th>\n",
       "      <th>hun_total</th>\n",
       "      <th>hun_asof</th>\n",
       "    </tr>\n",
       "  </thead>\n",
       "  <tbody>\n",
       "    <tr>\n",
       "      <th>0</th>\n",
       "      <td>Easy A</td>\n",
       "      <td>$58,401,464</td>\n",
       "      <td>Sony / Screen Gems</td>\n",
       "      <td>September 17, 2010</td>\n",
       "      <td>Romantic Comedy</td>\n",
       "      <td>1 hrs. 32 min.</td>\n",
       "      <td>$8 million</td>\n",
       "      <td>PG-13</td>\n",
       "      <td>FOREIGN TOTAL</td>\n",
       "      <td>-</td>\n",
       "      <td>...</td>\n",
       "      <td>6.8%</td>\n",
       "      <td>$16,550,841</td>\n",
       "      <td>3/20/11</td>\n",
       "      <td>Hungary</td>\n",
       "      <td>InterCom</td>\n",
       "      <td>10/28/10</td>\n",
       "      <td>$47,154</td>\n",
       "      <td>40.6%</td>\n",
       "      <td>$116,150</td>\n",
       "      <td>11/7/10</td>\n",
       "    </tr>\n",
       "  </tbody>\n",
       "</table>\n",
       "<p>1 rows × 22 columns</p>\n",
       "</div>"
      ],
      "text/plain": [
       "    title          dtg                dist             release  \\\n",
       "0  Easy A  $58,401,464  Sony / Screen Gems  September 17, 2010   \n",
       "\n",
       "             genre         runtime      budget rating        foreign  \\\n",
       "0  Romantic Comedy  1 hrs. 32 min.  $8 million  PG-13  FOREIGN TOTAL   \n",
       "\n",
       "  foreign_dist   ...    foreign_pct foreign_total foreign_asof  hungary  \\\n",
       "0            -   ...           6.8%   $16,550,841      3/20/11  Hungary   \n",
       "\n",
       "   hun_dist hun_release hun_opening hun_pct hun_total hun_asof  \n",
       "0  InterCom    10/28/10     $47,154   40.6%  $116,150  11/7/10  \n",
       "\n",
       "[1 rows x 22 columns]"
      ]
     },
     "execution_count": 80,
     "metadata": {},
     "output_type": "execute_result"
    }
   ],
   "source": [
    "df"
   ]
  },
  {
   "cell_type": "code",
   "execution_count": null,
   "metadata": {
    "collapsed": true
   },
   "outputs": [],
   "source": []
  }
 ],
 "metadata": {
  "kernelspec": {
   "display_name": "Python 2",
   "language": "python",
   "name": "python2"
  },
  "language_info": {
   "codemirror_mode": {
    "name": "ipython",
    "version": 2
   },
   "file_extension": ".py",
   "mimetype": "text/x-python",
   "name": "python",
   "nbconvert_exporter": "python",
   "pygments_lexer": "ipython2",
   "version": "2.7.10"
  }
 },
 "nbformat": 4,
 "nbformat_minor": 0
}
