{
 "cells": [
  {
   "cell_type": "code",
   "execution_count": 5,
   "metadata": {
    "collapsed": true
   },
   "outputs": [],
   "source": [
    "import requests\n",
    "from bs4 import BeautifulSoup"
   ]
  },
  {
   "cell_type": "code",
   "execution_count": 8,
   "metadata": {
    "collapsed": false
   },
   "outputs": [],
   "source": [
    "url = 'http://www.boxofficemojo.com/movies/?page=intl&id=easya.htm&sort=percoftotal&order=DESC&p=.htm'\n",
    "def scrape_page(url):\n",
    "    page = url\n",
    "    response = requests.get(url)\n",
    "    soup = BeautifulSoup(response.text)\n",
    "    return soup"
   ]
  },
  {
   "cell_type": "code",
   "execution_count": 9,
   "metadata": {
    "collapsed": false
   },
   "outputs": [],
   "source": [
    "easya = scrape_page(url)"
   ]
  },
  {
   "cell_type": "code",
   "execution_count": 38,
   "metadata": {
    "collapsed": false
   },
   "outputs": [],
   "source": [
    "header = easya.find_all('td')[4]\n",
    "international = easya.find_all('table')[7]"
   ]
  },
  {
   "cell_type": "code",
   "execution_count": 39,
   "metadata": {
    "collapsed": false
   },
   "outputs": [
    {
     "data": {
      "text/plain": [
       "<td align=\"center\" valign=\"top\"><br/><font face=\"Verdana\" size=\"6\"><b>Easy A</b></font><br/><br/>\n",
       "<table border=\"0\" cellpadding=\"0\" cellspacing=\"0\"><tr><td>\n",
       "<center><table bgcolor=\"#dcdcdc\" border=\"0\" cellpadding=\"4\" cellspacing=\"1\" width=\"95%\"><tr bgcolor=\"#ffffff\"><td align=\"center\" colspan=\"2\"><font size=\"4\">Domestic Total Gross: <b>$58,401,464</b></font></td></tr><tr bgcolor=\"#ffffff\"><td valign=\"top\">Distributor: <b><a href=\"/studio/chart/?studio=screengems.htm\">Sony / Screen Gems</a></b></td><td valign=\"top\">Release Date: <b><nobr><a href=\"/schedule/?view=bydate&amp;release=theatrical&amp;date=2010-09-17&amp;p=.htm\">September 17, 2010</a></nobr></b></td></tr><tr bgcolor=\"#ffffff\"><td valign=\"top\">Genre: <b>Romantic Comedy</b></td><td valign=\"top\">Runtime: <b>1 hrs. 32 min.</b></td></tr><tr bgcolor=\"#ffffff\"><td valign=\"top\">MPAA Rating: <b>PG-13</b></td><td valign=\"top\">Production Budget: <b>$8 million</b></td></tr></table> </center></td>\n",
       "</tr></table></td>"
      ]
     },
     "execution_count": 39,
     "metadata": {},
     "output_type": "execute_result"
    }
   ],
   "source": [
    "header"
   ]
  },
  {
   "cell_type": "code",
   "execution_count": 77,
   "metadata": {
    "collapsed": false
   },
   "outputs": [],
   "source": [
    "countries = international.find_all('tr')\n",
    "foreign_total = []\n",
    "hungary = []"
   ]
  },
  {
   "cell_type": "code",
   "execution_count": 81,
   "metadata": {
    "collapsed": false
   },
   "outputs": [],
   "source": [
    "# do this for foreign_total and for Hungary\n",
    "# e.g. get_international('Hungary', hungary)\n",
    "def get_international(country, country_list):\n",
    "    country_data = ''\n",
    "    for row in countries:\n",
    "        data = row.find_all('td')\n",
    "        if data[0].find(text=country):\n",
    "            country_data = row\n",
    "        else:\n",
    "            break\n",
    "    #get country name, insert as first element to list\n",
    "    country_list.append(country_data.find('a').contents[0])\n",
    "    columns = country_data.find_all('td')[1:]\n",
    "    for column in columns:\n",
    "        country_list.append(column.get_text())\n",
    "    return country_list"
   ]
  },
  {
   "cell_type": "code",
   "execution_count": null,
   "metadata": {
    "collapsed": true
   },
   "outputs": [],
   "source": []
  }
 ],
 "metadata": {
  "kernelspec": {
   "display_name": "Python 2",
   "language": "python",
   "name": "python2"
  },
  "language_info": {
   "codemirror_mode": {
    "name": "ipython",
    "version": 2
   },
   "file_extension": ".py",
   "mimetype": "text/x-python",
   "name": "python",
   "nbconvert_exporter": "python",
   "pygments_lexer": "ipython2",
   "version": "2.7.10"
  }
 },
 "nbformat": 4,
 "nbformat_minor": 0
}
