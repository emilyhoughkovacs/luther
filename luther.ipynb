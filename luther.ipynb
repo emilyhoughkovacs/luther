{
 "cells": [
  {
   "cell_type": "code",
   "execution_count": 5,
   "metadata": {
    "collapsed": true
   },
   "outputs": [],
   "source": [
    "import requests\n",
    "from bs4 import BeautifulSoup\n",
    "import re"
   ]
  },
  {
   "cell_type": "code",
   "execution_count": 8,
   "metadata": {
    "collapsed": false
   },
   "outputs": [],
   "source": [
    "url = 'http://www.boxofficemojo.com/movies/?page=intl&id=easya.htm&sort=percoftotal&order=DESC&p=.htm'\n",
    "def scrape_page(url):\n",
    "    page = url\n",
    "    response = requests.get(url)\n",
    "    try:\n",
    "        soup = BeautifulSoup(response.text)\n",
    "        return soup\n",
    "    except:\n",
    "        return None"
   ]
  },
  {
   "cell_type": "code",
   "execution_count": 9,
   "metadata": {
    "collapsed": false
   },
   "outputs": [],
   "source": [
    "easya = scrape_page(url)"
   ]
  },
  {
   "cell_type": "code",
   "execution_count": 83,
   "metadata": {
    "collapsed": true
   },
   "outputs": [],
   "source": [
    "movie_title = \"\"\n",
    "movie_data = []"
   ]
  },
  {
   "cell_type": "code",
   "execution_count": 95,
   "metadata": {
    "collapsed": false
   },
   "outputs": [],
   "source": [
    "movie_title = easya.find('title').text.split(\" (\")[0]"
   ]
  },
  {
   "cell_type": "code",
   "execution_count": 38,
   "metadata": {
    "collapsed": false
   },
   "outputs": [],
   "source": [
    "header = easya.find_all('td')[4]\n",
    "international = easya.find_all('table')[7]"
   ]
  },
  {
   "cell_type": "code",
   "execution_count": 39,
   "metadata": {
    "collapsed": false
   },
   "outputs": [
    {
     "data": {
      "text/plain": [
       "<td align=\"center\" valign=\"top\"><br/><font face=\"Verdana\" size=\"6\"><b>Easy A</b></font><br/><br/>\n",
       "<table border=\"0\" cellpadding=\"0\" cellspacing=\"0\"><tr><td>\n",
       "<center><table bgcolor=\"#dcdcdc\" border=\"0\" cellpadding=\"4\" cellspacing=\"1\" width=\"95%\"><tr bgcolor=\"#ffffff\"><td align=\"center\" colspan=\"2\"><font size=\"4\">Domestic Total Gross: <b>$58,401,464</b></font></td></tr><tr bgcolor=\"#ffffff\"><td valign=\"top\">Distributor: <b><a href=\"/studio/chart/?studio=screengems.htm\">Sony / Screen Gems</a></b></td><td valign=\"top\">Release Date: <b><nobr><a href=\"/schedule/?view=bydate&amp;release=theatrical&amp;date=2010-09-17&amp;p=.htm\">September 17, 2010</a></nobr></b></td></tr><tr bgcolor=\"#ffffff\"><td valign=\"top\">Genre: <b>Romantic Comedy</b></td><td valign=\"top\">Runtime: <b>1 hrs. 32 min.</b></td></tr><tr bgcolor=\"#ffffff\"><td valign=\"top\">MPAA Rating: <b>PG-13</b></td><td valign=\"top\">Production Budget: <b>$8 million</b></td></tr></table> </center></td>\n",
       "</tr></table></td>"
      ]
     },
     "execution_count": 39,
     "metadata": {},
     "output_type": "execute_result"
    }
   ],
   "source": [
    "header"
   ]
  },
  {
   "cell_type": "code",
   "execution_count": 101,
   "metadata": {
    "collapsed": false
   },
   "outputs": [],
   "source": [
    "def get_header_value(table, field_name):\n",
    "    '''Grab a value from boxofficemojo HTML\n",
    "    \n",
    "    Takes a string attribute of a movie on the page and\n",
    "    returns the string in the next sibling object\n",
    "    (the value for that attribute)\n",
    "    or None if nothing is found.\n",
    "    '''\n",
    "    obj = table.find(text=re.compile(field_name))\n",
    "    # this works for most of the values\n",
    "    next_sibling = obj.findNextSibling()\n",
    "    if next_sibling:\n",
    "        return next_sibling.text \n",
    "    else:\n",
    "        return ''"
   ]
  },
  {
   "cell_type": "code",
   "execution_count": 106,
   "metadata": {
    "collapsed": false
   },
   "outputs": [],
   "source": [
    "dtg = get_header_value(header,'Domestic Total')\n",
    "dist = get_header_value(header,'Distributor')\n",
    "release = get_header_value(header, 'Release Date')\n",
    "genre = get_header_value(header, 'Genre')\n",
    "runtime = get_header_value(header,'Runtime')\n",
    "budget = get_header_value(header, 'Budget')\n",
    "rating = get_header_value(header,'MPAA Rating')\n",
    "\n",
    "movie_data.append(dtg)\n",
    "movie_data.append(dist)\n",
    "movie_data.append(release)\n",
    "movie_data.append(genre)\n",
    "movie_data.append(runtime)\n",
    "movie_data.append(budget)\n",
    "movie_data.append(rating)"
   ]
  },
  {
   "cell_type": "code",
   "execution_count": 107,
   "metadata": {
    "collapsed": false
   },
   "outputs": [
    {
     "data": {
      "text/plain": [
       "[u'$58,401,464',\n",
       " u'Sony / Screen Gems',\n",
       " u'September 17, 2010',\n",
       " u'Romantic Comedy',\n",
       " u'1 hrs. 32 min.',\n",
       " u'$8 million',\n",
       " u'PG-13']"
      ]
     },
     "execution_count": 107,
     "metadata": {},
     "output_type": "execute_result"
    }
   ],
   "source": [
    "movie_data"
   ]
  },
  {
   "cell_type": "code",
   "execution_count": 77,
   "metadata": {
    "collapsed": false
   },
   "outputs": [],
   "source": [
    "countries = international.find_all('tr')\n",
    "foreign_total = []\n",
    "hungary = []"
   ]
  },
  {
   "cell_type": "code",
   "execution_count": 81,
   "metadata": {
    "collapsed": false
   },
   "outputs": [],
   "source": [
    "# do this for foreign_total and for Hungary\n",
    "# e.g. get_international('Hungary', hungary)\n",
    "def get_international(country, country_list):\n",
    "    country_data = ''\n",
    "    for row in countries:\n",
    "        data = row.find_all('td')\n",
    "        if data[0].find(text=country):\n",
    "            country_data = row\n",
    "        else:\n",
    "            break\n",
    "    #get country name, insert as first element to list\n",
    "    country_list.append(country_data.find('a').contents[0])\n",
    "    columns = country_data.find_all('td')[1:]\n",
    "    for column in columns:\n",
    "        country_list.append(column.get_text())\n",
    "    return country_list"
   ]
  },
  {
   "cell_type": "code",
   "execution_count": null,
   "metadata": {
    "collapsed": true
   },
   "outputs": [],
   "source": []
  }
 ],
 "metadata": {
  "kernelspec": {
   "display_name": "Python 2",
   "language": "python",
   "name": "python2"
  },
  "language_info": {
   "codemirror_mode": {
    "name": "ipython",
    "version": 2
   },
   "file_extension": ".py",
   "mimetype": "text/x-python",
   "name": "python",
   "nbconvert_exporter": "python",
   "pygments_lexer": "ipython2",
   "version": "2.7.10"
  }
 },
 "nbformat": 4,
 "nbformat_minor": 0
}
