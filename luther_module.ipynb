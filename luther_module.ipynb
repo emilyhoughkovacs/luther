{
 "cells": [
  {
   "cell_type": "code",
   "execution_count": 1,
   "metadata": {
    "collapsed": true
   },
   "outputs": [],
   "source": [
    "import requests\n",
    "from bs4 import BeautifulSoup\n",
    "import re\n",
    "import pandas as pd\n",
    "import numpy as np"
   ]
  },
  {
   "cell_type": "code",
   "execution_count": 2,
   "metadata": {
    "collapsed": true
   },
   "outputs": [],
   "source": [
    "df = pd.DataFrame(columns=('title', 'dtg', 'dist', 'release', 'genre', 'runtime', 'budget', 'rating', 'foreign', 'foreign_dist', 'foreign_release', 'foreign_opening', 'foreign_pct', 'foreign_total', 'foreign_asof', 'hungary', 'hun_dist', 'hun_release', 'hun_opening', 'hun_pct', 'hun_total', 'hun_asof'))"
   ]
  },
  {
   "cell_type": "code",
   "execution_count": 3,
   "metadata": {
    "collapsed": true
   },
   "outputs": [],
   "source": [
    "list_of_urls = [\n",
    "    'http://www.boxofficemojo.com/movies/?page=intl&id=easya.htm',\n",
    "    'http://www.boxofficemojo.com/movies/?page=intl&id=child.htm'\n",
    "]"
   ]
  },
  {
   "cell_type": "code",
   "execution_count": 30,
   "metadata": {
    "collapsed": true
   },
   "outputs": [],
   "source": [
    "def setup(site, movie_data):\n",
    "    movie_title = \"\"\n",
    "    movie_title = site.find('title').text.split(\" (\")[0]\n",
    "    movie_data.append(movie_title)\n",
    "    header = site.find_all('td')[4]\n",
    "    international = site.find_all('table')[7]\n",
    "    countries = international.find_all('tr')\n",
    "    return movie_data, countries"
   ]
  },
  {
   "cell_type": "code",
   "execution_count": 20,
   "metadata": {
    "collapsed": true
   },
   "outputs": [],
   "source": [
    "def get_header_value(table, field_name):\n",
    "    '''Grab a value from boxofficemojo HTML\n",
    "    \n",
    "    Takes a string attribute of a movie on the page and\n",
    "    returns the string in the next sibling object\n",
    "    (the value for that attribute)\n",
    "    or None if nothing is found.\n",
    "    '''\n",
    "    obj = table.find(text=re.compile(field_name))\n",
    "    # this works for most of the values\n",
    "    next_sibling = obj.findNextSibling()\n",
    "    if next_sibling:\n",
    "        return next_sibling.text \n",
    "    else:\n",
    "        return ''"
   ]
  },
  {
   "cell_type": "code",
   "execution_count": 21,
   "metadata": {
    "collapsed": true
   },
   "outputs": [],
   "source": [
    "def header():\n",
    "    dtg = get_header_value(header,'Domestic Total')\n",
    "    dist = get_header_value(header,'Distributor')\n",
    "    release = get_header_value(header, 'Release Date')\n",
    "    genre = get_header_value(header, 'Genre')\n",
    "    runtime = get_header_value(header,'Runtime')\n",
    "    budget = get_header_value(header, 'Budget')\n",
    "    rating = get_header_value(header,'MPAA Rating')\n",
    "\n",
    "    movie_data.append(movie_title)\n",
    "    movie_data.append(dtg)\n",
    "    movie_data.append(dist)\n",
    "    movie_data.append(release)\n",
    "    movie_data.append(genre)\n",
    "    movie_data.append(runtime)\n",
    "    movie_data.append(budget)\n",
    "    movie_data.append(rating)"
   ]
  },
  {
   "cell_type": "code",
   "execution_count": 31,
   "metadata": {
    "collapsed": true
   },
   "outputs": [],
   "source": [
    "def get_data(url):\n",
    "    # return row of df if it exists\n",
    "    # break out of that function but continue for loop if it does not\n",
    "    response = requests.get(url)\n",
    "    page = BeautifulSoup(response.text)\n",
    "    \n",
    "    movie_data = []\n",
    "    foreign_total = []\n",
    "    hungary = []\n",
    "    \n",
    "    if page.find_all(text=\"Hungary\"):\n",
    "        movie_data, countries = setup(page, movie_data)\n",
    "        "
   ]
  },
  {
   "cell_type": "code",
   "execution_count": 32,
   "metadata": {
    "collapsed": false
   },
   "outputs": [],
   "source": [
    "i=0\n",
    "for url in list_of_urls:\n",
    "    row = get_data(url)\n",
    "    if row:\n",
    "        df.loc[i] = row\n",
    "        i += 1"
   ]
  },
  {
   "cell_type": "code",
   "execution_count": null,
   "metadata": {
    "collapsed": true
   },
   "outputs": [],
   "source": [
    "def get_data(url):\n",
    "    response = requests.get(url)\n",
    "    page = BeautifulSoup(response.text)\n",
    "    # check if hungary in page\n",
    "    \n",
    "    movie_title = \"\"\n",
    "    movie_data = []\n",
    "    movie_title = easya.find('title').text.split(\" (\")[0]\n",
    "    header = easya.find_all('td')[4]\n",
    "    international = easya.find_all('table')[7]"
   ]
  }
 ],
 "metadata": {
  "kernelspec": {
   "display_name": "Python 2",
   "language": "python",
   "name": "python2"
  },
  "language_info": {
   "codemirror_mode": {
    "name": "ipython",
    "version": 2
   },
   "file_extension": ".py",
   "mimetype": "text/x-python",
   "name": "python",
   "nbconvert_exporter": "python",
   "pygments_lexer": "ipython2",
   "version": "2.7.10"
  }
 },
 "nbformat": 4,
 "nbformat_minor": 0
}
