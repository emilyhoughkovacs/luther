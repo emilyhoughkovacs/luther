{
 "cells": [
  {
   "cell_type": "code",
   "execution_count": 11,
   "metadata": {
    "collapsed": true
   },
   "outputs": [],
   "source": [
    "import requests\n",
    "from bs4 import BeautifulSoup\n",
    "import re\n",
    "import pandas as pd\n",
    "import numpy as np"
   ]
  },
  {
   "cell_type": "code",
   "execution_count": 67,
   "metadata": {
    "collapsed": true
   },
   "outputs": [],
   "source": [
    "df = pd.DataFrame(columns=('title', 'dtg', 'dist', 'release', 'genre', 'runtime', 'budget', 'rating', 'foreign', 'foreign_dist', 'foreign_release', 'foreign_opening', 'foreign_pct', 'foreign_total', 'foreign_asof', 'hungary', 'hun_dist', 'hun_release', 'hun_opening', 'hun_pct', 'hun_total', 'hun_asof'))"
   ]
  },
  {
   "cell_type": "code",
   "execution_count": 44,
   "metadata": {
    "collapsed": true
   },
   "outputs": [],
   "source": [
    "list_of_urls = [\n",
    "    'http://www.boxofficemojo.com/movies/?page=intl&id=easya.htm',\n",
    "    'http://www.boxofficemojo.com/movies/?page=intl&id=child.htm'\n",
    "]"
   ]
  },
  {
   "cell_type": "code",
   "execution_count": 50,
   "metadata": {
    "collapsed": true
   },
   "outputs": [],
   "source": [
    "def setup(site, movie_data):\n",
    "    movie_title = \"\"\n",
    "    movie_title = site.find('title').text.split(\" (\")[0]\n",
    "    movie_data.append(movie_title)\n",
    "    page_header = site.find_all('td')[4]\n",
    "    international = site.find_all('table')[7]\n",
    "    countries = international.find_all('tr')\n",
    "    return movie_data, countries, page_header"
   ]
  },
  {
   "cell_type": "code",
   "execution_count": 51,
   "metadata": {
    "collapsed": true
   },
   "outputs": [],
   "source": [
    "def get_header_value(table, field_name):\n",
    "    '''Grab a value from boxofficemojo HTML\n",
    "    \n",
    "    Takes a string attribute of a movie on the page and\n",
    "    returns the string in the next sibling object\n",
    "    (the value for that attribute)\n",
    "    or None if nothing is found.\n",
    "    '''\n",
    "    obj = table.find(text=re.compile(field_name))\n",
    "    # this works for most of the values\n",
    "    next_sibling = obj.findNextSibling()\n",
    "    if next_sibling:\n",
    "        return next_sibling.text \n",
    "    else:\n",
    "        return ''"
   ]
  },
  {
   "cell_type": "code",
   "execution_count": 52,
   "metadata": {
    "collapsed": true
   },
   "outputs": [],
   "source": [
    "def header(table, list_to_append):\n",
    "    dtg = get_header_value(table,'Domestic Total')\n",
    "    dist = get_header_value(table,'Distributor')\n",
    "    release = get_header_value(table, 'Release Date')\n",
    "    genre = get_header_value(table, 'Genre')\n",
    "    runtime = get_header_value(table,'Runtime')\n",
    "    budget = get_header_value(table, 'Budget')\n",
    "    rating = get_header_value(table,'MPAA Rating')\n",
    "    list_to_append.append(dtg)\n",
    "    list_to_append.append(dist)\n",
    "    list_to_append.append(release)\n",
    "    list_to_append.append(genre)\n",
    "    list_to_append.append(runtime)\n",
    "    list_to_append.append(budget)\n",
    "    list_to_append.append(rating)"
   ]
  },
  {
   "cell_type": "code",
   "execution_count": 61,
   "metadata": {
    "collapsed": true
   },
   "outputs": [],
   "source": [
    "# do this for foreign_total and for Hungary\n",
    "# e.g. get_international('Hungary', hungary)\n",
    "def get_international(country, country_list, country_table):\n",
    "    country_data = ''\n",
    "    for row in country_table:\n",
    "        data = row.find_all('td')\n",
    "        if data[0].find(text=country):\n",
    "            country_data = row\n",
    "    #get country name, insert as first element to list\n",
    "    country_list.append(country_data.find('a').contents[0])\n",
    "    columns = country_data.find_all('td')[1:]\n",
    "    for column in columns:\n",
    "        country_list.append(column.get_text())\n",
    "    return country_list"
   ]
  },
  {
   "cell_type": "code",
   "execution_count": 62,
   "metadata": {
    "collapsed": true
   },
   "outputs": [],
   "source": [
    "def get_data(url):\n",
    "    # return row of df if it exists\n",
    "    # break out of that function but continue for loop if it does not\n",
    "    response = requests.get(url)\n",
    "    page = BeautifulSoup(response.text)\n",
    "    \n",
    "    movie_data = []\n",
    "    foreign_total = []\n",
    "    hungary = []\n",
    "    \n",
    "    if page.find_all(text=\"Hungary\"):\n",
    "        movie_data, countries, page_header = setup(page, movie_data)\n",
    "        header(page_header, movie_data)\n",
    "        get_international('FOREIGN TOTAL', foreign_total, countries)\n",
    "        get_international('Hungary', hungary, countries)\n",
    "        movie_row = movie_data + foreign_total + hungary\n",
    "        return movie_row\n",
    "        "
   ]
  },
  {
   "cell_type": "code",
   "execution_count": 68,
   "metadata": {
    "collapsed": false
   },
   "outputs": [
    {
     "data": {
      "text/html": [
       "<div>\n",
       "<table border=\"1\" class=\"dataframe\">\n",
       "  <thead>\n",
       "    <tr style=\"text-align: right;\">\n",
       "      <th></th>\n",
       "      <th>title</th>\n",
       "      <th>dtg</th>\n",
       "      <th>dist</th>\n",
       "      <th>release</th>\n",
       "      <th>genre</th>\n",
       "      <th>runtime</th>\n",
       "      <th>budget</th>\n",
       "      <th>rating</th>\n",
       "      <th>foreign</th>\n",
       "      <th>foreign_dist</th>\n",
       "      <th>...</th>\n",
       "      <th>foreign_pct</th>\n",
       "      <th>foreign_total</th>\n",
       "      <th>foreign_asof</th>\n",
       "      <th>hungary</th>\n",
       "      <th>hun_dist</th>\n",
       "      <th>hun_release</th>\n",
       "      <th>hun_opening</th>\n",
       "      <th>hun_pct</th>\n",
       "      <th>hun_total</th>\n",
       "      <th>hun_asof</th>\n",
       "    </tr>\n",
       "  </thead>\n",
       "  <tbody>\n",
       "  </tbody>\n",
       "</table>\n",
       "<p>0 rows × 22 columns</p>\n",
       "</div>"
      ],
      "text/plain": [
       "Empty DataFrame\n",
       "Columns: [title, dtg, dist, release, genre, runtime, budget, rating, foreign, foreign_dist, foreign_release, foreign_opening, foreign_pct, foreign_total, foreign_asof, hungary, hun_dist, hun_release, hun_opening, hun_pct, hun_total, hun_asof]\n",
       "Index: []\n",
       "\n",
       "[0 rows x 22 columns]"
      ]
     },
     "execution_count": 68,
     "metadata": {},
     "output_type": "execute_result"
    }
   ],
   "source": [
    "df"
   ]
  },
  {
   "cell_type": "code",
   "execution_count": 70,
   "metadata": {
    "collapsed": false
   },
   "outputs": [],
   "source": [
    "for url in list_of_urls:\n",
    "    row = get_data(url)\n",
    "    if row:\n",
    "        row_s = pd.Series(row, index=df.columns)\n",
    "        df = df.append(row_s, ignore_index=True)"
   ]
  },
  {
   "cell_type": "code",
   "execution_count": 71,
   "metadata": {
    "collapsed": false
   },
   "outputs": [
    {
     "data": {
      "text/html": [
       "<div>\n",
       "<table border=\"1\" class=\"dataframe\">\n",
       "  <thead>\n",
       "    <tr style=\"text-align: right;\">\n",
       "      <th></th>\n",
       "      <th>title</th>\n",
       "      <th>dtg</th>\n",
       "      <th>dist</th>\n",
       "      <th>release</th>\n",
       "      <th>genre</th>\n",
       "      <th>runtime</th>\n",
       "      <th>budget</th>\n",
       "      <th>rating</th>\n",
       "      <th>foreign</th>\n",
       "      <th>foreign_dist</th>\n",
       "      <th>...</th>\n",
       "      <th>foreign_pct</th>\n",
       "      <th>foreign_total</th>\n",
       "      <th>foreign_asof</th>\n",
       "      <th>hungary</th>\n",
       "      <th>hun_dist</th>\n",
       "      <th>hun_release</th>\n",
       "      <th>hun_opening</th>\n",
       "      <th>hun_pct</th>\n",
       "      <th>hun_total</th>\n",
       "      <th>hun_asof</th>\n",
       "    </tr>\n",
       "  </thead>\n",
       "  <tbody>\n",
       "    <tr>\n",
       "      <th>0</th>\n",
       "      <td>Easy A</td>\n",
       "      <td>$58,401,464</td>\n",
       "      <td>Sony / Screen Gems</td>\n",
       "      <td>September 17, 2010</td>\n",
       "      <td>Romantic Comedy</td>\n",
       "      <td>1 hrs. 32 min.</td>\n",
       "      <td>$8 million</td>\n",
       "      <td>PG-13</td>\n",
       "      <td>FOREIGN TOTAL</td>\n",
       "      <td>-</td>\n",
       "      <td>...</td>\n",
       "      <td>6.8%</td>\n",
       "      <td>$16,550,841</td>\n",
       "      <td>3/20/11</td>\n",
       "      <td>Hungary</td>\n",
       "      <td>InterCom</td>\n",
       "      <td>10/28/10</td>\n",
       "      <td>$47,154</td>\n",
       "      <td>40.6%</td>\n",
       "      <td>$116,150</td>\n",
       "      <td>11/7/10</td>\n",
       "    </tr>\n",
       "  </tbody>\n",
       "</table>\n",
       "<p>1 rows × 22 columns</p>\n",
       "</div>"
      ],
      "text/plain": [
       "    title          dtg                dist             release  \\\n",
       "0  Easy A  $58,401,464  Sony / Screen Gems  September 17, 2010   \n",
       "\n",
       "             genre         runtime      budget rating        foreign  \\\n",
       "0  Romantic Comedy  1 hrs. 32 min.  $8 million  PG-13  FOREIGN TOTAL   \n",
       "\n",
       "  foreign_dist   ...    foreign_pct foreign_total foreign_asof  hungary  \\\n",
       "0            -   ...           6.8%   $16,550,841      3/20/11  Hungary   \n",
       "\n",
       "   hun_dist hun_release hun_opening hun_pct hun_total hun_asof  \n",
       "0  InterCom    10/28/10     $47,154   40.6%  $116,150  11/7/10  \n",
       "\n",
       "[1 rows x 22 columns]"
      ]
     },
     "execution_count": 71,
     "metadata": {},
     "output_type": "execute_result"
    }
   ],
   "source": [
    "df"
   ]
  },
  {
   "cell_type": "code",
   "execution_count": null,
   "metadata": {
    "collapsed": true
   },
   "outputs": [],
   "source": []
  }
 ],
 "metadata": {
  "kernelspec": {
   "display_name": "Python 2",
   "language": "python",
   "name": "python2"
  },
  "language_info": {
   "codemirror_mode": {
    "name": "ipython",
    "version": 2
   },
   "file_extension": ".py",
   "mimetype": "text/x-python",
   "name": "python",
   "nbconvert_exporter": "python",
   "pygments_lexer": "ipython2",
   "version": "2.7.10"
  }
 },
 "nbformat": 4,
 "nbformat_minor": 0
}
